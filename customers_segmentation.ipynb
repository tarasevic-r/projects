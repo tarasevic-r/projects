{
  "nbformat": 4,
  "nbformat_minor": 0,
  "metadata": {
    "colab": {
      "name": "customers_segmentation.ipynb",
      "provenance": [],
      "collapsed_sections": []
    },
    "kernelspec": {
      "name": "python3",
      "display_name": "Python 3"
    }
  },
  "cells": [
    {
      "cell_type": "markdown",
      "metadata": {
        "id": "5gJQySfb26vS"
      },
      "source": [
        "# Data Scientist task: customer segmentation\n",
        "## 2021-06-26\n",
        "\n",
        "### Robert Tarasevič"
      ]
    },
    {
      "cell_type": "code",
      "metadata": {
        "id": "OCMmQPtwtVTo"
      },
      "source": [
        "import numpy as np\n",
        "import pandas as pd\n",
        "pd.options.mode.chained_assignment = None  # default='warn'\n",
        "\n",
        "import matplotlib.pyplot as plt\n",
        "import seaborn as sn\n",
        "\n",
        "from sklearn.metrics import silhouette_score\n",
        "from sklearn.cluster import KMeans\n",
        "\n",
        "from sklearn.decomposition import PCA\n",
        "\n",
        "from datetime import date\n",
        "import datetime as dt\n",
        "from sklearn.preprocessing import StandardScaler\n"
      ],
      "execution_count": null,
      "outputs": []
    },
    {
      "cell_type": "code",
      "metadata": {
        "colab": {
          "base_uri": "https://localhost:8080/"
        },
        "id": "GLZgOi14tqCF",
        "outputId": "fc1fe934-04ba-4bb3-cbd7-1afc8b7d5aa3"
      },
      "source": [
        "from google.colab import drive\n",
        "drive.mount('/content/drive')"
      ],
      "execution_count": null,
      "outputs": [
        {
          "output_type": "stream",
          "text": [
            "Mounted at /content/drive\n"
          ],
          "name": "stdout"
        }
      ]
    },
    {
      "cell_type": "markdown",
      "metadata": {
        "id": "Uy5o3i1bQuhs"
      },
      "source": [
        "## General overview of the data"
      ]
    },
    {
      "cell_type": "code",
      "metadata": {
        "colab": {
          "base_uri": "https://localhost:8080/",
          "height": 359
        },
        "id": "ZSZ9-niktrz8",
        "outputId": "e81b404f-40bb-4f40-93a2-65e5f7392819"
      },
      "source": [
        "df = pd.read_excel(\"/content/drive/MyDrive/data_science_candidate_task.xlsx\", sheet_name=\"data\")\n",
        "df.head(10)"
      ],
      "execution_count": null,
      "outputs": [
        {
          "output_type": "execute_result",
          "data": {
            "text/html": [
              "<div>\n",
              "<style scoped>\n",
              "    .dataframe tbody tr th:only-of-type {\n",
              "        vertical-align: middle;\n",
              "    }\n",
              "\n",
              "    .dataframe tbody tr th {\n",
              "        vertical-align: top;\n",
              "    }\n",
              "\n",
              "    .dataframe thead th {\n",
              "        text-align: right;\n",
              "    }\n",
              "</style>\n",
              "<table border=\"1\" class=\"dataframe\">\n",
              "  <thead>\n",
              "    <tr style=\"text-align: right;\">\n",
              "      <th></th>\n",
              "      <th>customer_id</th>\n",
              "      <th>order_id</th>\n",
              "      <th>order_date</th>\n",
              "      <th>city</th>\n",
              "      <th>product_id</th>\n",
              "      <th>category</th>\n",
              "      <th>sub_category</th>\n",
              "      <th>product_name</th>\n",
              "      <th>total_excl_vat</th>\n",
              "      <th>quantity</th>\n",
              "      <th>discount</th>\n",
              "    </tr>\n",
              "  </thead>\n",
              "  <tbody>\n",
              "    <tr>\n",
              "      <th>0</th>\n",
              "      <td>CG-12520</td>\n",
              "      <td>CA-2016-152156</td>\n",
              "      <td>2016-11-08</td>\n",
              "      <td>Henderson</td>\n",
              "      <td>FUR-BO-10001798</td>\n",
              "      <td>Furniture</td>\n",
              "      <td>Bookcases</td>\n",
              "      <td>Bush Somerset Collection Bookcase</td>\n",
              "      <td>261.9600</td>\n",
              "      <td>2</td>\n",
              "      <td>0.00</td>\n",
              "    </tr>\n",
              "    <tr>\n",
              "      <th>1</th>\n",
              "      <td>CG-12520</td>\n",
              "      <td>CA-2016-152156</td>\n",
              "      <td>2016-11-08</td>\n",
              "      <td>Henderson</td>\n",
              "      <td>FUR-CH-10000454</td>\n",
              "      <td>Furniture</td>\n",
              "      <td>Chairs</td>\n",
              "      <td>Hon Deluxe Fabric Upholstered Stacking Chairs,...</td>\n",
              "      <td>731.9400</td>\n",
              "      <td>3</td>\n",
              "      <td>0.00</td>\n",
              "    </tr>\n",
              "    <tr>\n",
              "      <th>2</th>\n",
              "      <td>DV-13045</td>\n",
              "      <td>CA-2016-138688</td>\n",
              "      <td>2016-06-12</td>\n",
              "      <td>Los Angeles</td>\n",
              "      <td>OFF-LA-10000240</td>\n",
              "      <td>Office Supplies</td>\n",
              "      <td>Labels</td>\n",
              "      <td>Self-Adhesive Address Labels for Typewriters b...</td>\n",
              "      <td>14.6200</td>\n",
              "      <td>2</td>\n",
              "      <td>0.00</td>\n",
              "    </tr>\n",
              "    <tr>\n",
              "      <th>3</th>\n",
              "      <td>SO-20335</td>\n",
              "      <td>US-2015-108966</td>\n",
              "      <td>2015-10-11</td>\n",
              "      <td>Fort Lauderdale</td>\n",
              "      <td>FUR-TA-10000577</td>\n",
              "      <td>Furniture</td>\n",
              "      <td>Tables</td>\n",
              "      <td>Bretford CR4500 Series Slim Rectangular Table</td>\n",
              "      <td>957.5775</td>\n",
              "      <td>5</td>\n",
              "      <td>0.45</td>\n",
              "    </tr>\n",
              "    <tr>\n",
              "      <th>4</th>\n",
              "      <td>SO-20335</td>\n",
              "      <td>US-2015-108966</td>\n",
              "      <td>2015-10-11</td>\n",
              "      <td>Fort Lauderdale</td>\n",
              "      <td>OFF-ST-10000760</td>\n",
              "      <td>Office Supplies</td>\n",
              "      <td>Storage</td>\n",
              "      <td>Eldon Fold 'N Roll Cart System</td>\n",
              "      <td>22.3680</td>\n",
              "      <td>2</td>\n",
              "      <td>0.20</td>\n",
              "    </tr>\n",
              "    <tr>\n",
              "      <th>5</th>\n",
              "      <td>BH-11710</td>\n",
              "      <td>CA-2014-115812</td>\n",
              "      <td>2014-06-09</td>\n",
              "      <td>Los Angeles</td>\n",
              "      <td>FUR-FU-10001487</td>\n",
              "      <td>Furniture</td>\n",
              "      <td>Furnishings</td>\n",
              "      <td>Eldon Expressions Wood and Plastic Desk Access...</td>\n",
              "      <td>48.8600</td>\n",
              "      <td>7</td>\n",
              "      <td>0.00</td>\n",
              "    </tr>\n",
              "    <tr>\n",
              "      <th>6</th>\n",
              "      <td>BH-11710</td>\n",
              "      <td>CA-2014-115812</td>\n",
              "      <td>2014-06-09</td>\n",
              "      <td>Los Angeles</td>\n",
              "      <td>OFF-AR-10002833</td>\n",
              "      <td>Office Supplies</td>\n",
              "      <td>Art</td>\n",
              "      <td>Newell 322</td>\n",
              "      <td>7.2800</td>\n",
              "      <td>4</td>\n",
              "      <td>0.00</td>\n",
              "    </tr>\n",
              "    <tr>\n",
              "      <th>7</th>\n",
              "      <td>BH-11710</td>\n",
              "      <td>CA-2014-115812</td>\n",
              "      <td>2014-06-09</td>\n",
              "      <td>Los Angeles</td>\n",
              "      <td>TEC-PH-10002275</td>\n",
              "      <td>Technology</td>\n",
              "      <td>Phones</td>\n",
              "      <td>Mitel 5320 IP Phone VoIP phone</td>\n",
              "      <td>907.1520</td>\n",
              "      <td>6</td>\n",
              "      <td>0.20</td>\n",
              "    </tr>\n",
              "    <tr>\n",
              "      <th>8</th>\n",
              "      <td>BH-11710</td>\n",
              "      <td>CA-2014-115812</td>\n",
              "      <td>2014-06-09</td>\n",
              "      <td>Los Angeles</td>\n",
              "      <td>OFF-BI-10003910</td>\n",
              "      <td>Office Supplies</td>\n",
              "      <td>Binders</td>\n",
              "      <td>DXL Angle-View Binders with Locking Rings by S...</td>\n",
              "      <td>18.5040</td>\n",
              "      <td>3</td>\n",
              "      <td>0.20</td>\n",
              "    </tr>\n",
              "    <tr>\n",
              "      <th>9</th>\n",
              "      <td>BH-11710</td>\n",
              "      <td>CA-2014-115812</td>\n",
              "      <td>2014-06-09</td>\n",
              "      <td>Los Angeles</td>\n",
              "      <td>OFF-AP-10002892</td>\n",
              "      <td>Office Supplies</td>\n",
              "      <td>Appliances</td>\n",
              "      <td>Belkin F5C206VTEL 6 Outlet Surge</td>\n",
              "      <td>114.9000</td>\n",
              "      <td>5</td>\n",
              "      <td>0.00</td>\n",
              "    </tr>\n",
              "  </tbody>\n",
              "</table>\n",
              "</div>"
            ],
            "text/plain": [
              "  customer_id        order_id order_date  ... total_excl_vat quantity discount\n",
              "0    CG-12520  CA-2016-152156 2016-11-08  ...       261.9600        2     0.00\n",
              "1    CG-12520  CA-2016-152156 2016-11-08  ...       731.9400        3     0.00\n",
              "2    DV-13045  CA-2016-138688 2016-06-12  ...        14.6200        2     0.00\n",
              "3    SO-20335  US-2015-108966 2015-10-11  ...       957.5775        5     0.45\n",
              "4    SO-20335  US-2015-108966 2015-10-11  ...        22.3680        2     0.20\n",
              "5    BH-11710  CA-2014-115812 2014-06-09  ...        48.8600        7     0.00\n",
              "6    BH-11710  CA-2014-115812 2014-06-09  ...         7.2800        4     0.00\n",
              "7    BH-11710  CA-2014-115812 2014-06-09  ...       907.1520        6     0.20\n",
              "8    BH-11710  CA-2014-115812 2014-06-09  ...        18.5040        3     0.20\n",
              "9    BH-11710  CA-2014-115812 2014-06-09  ...       114.9000        5     0.00\n",
              "\n",
              "[10 rows x 11 columns]"
            ]
          },
          "metadata": {
            "tags": []
          },
          "execution_count": 198
        }
      ]
    },
    {
      "cell_type": "markdown",
      "metadata": {
        "id": "cNkT-ecSVHg_"
      },
      "source": [
        "Check for any missing values"
      ]
    },
    {
      "cell_type": "code",
      "metadata": {
        "colab": {
          "base_uri": "https://localhost:8080/"
        },
        "id": "leGX6wqHVCOR",
        "outputId": "5ea0fd51-1232-4d4f-d284-e460e5a734a4"
      },
      "source": [
        "df.isnull().sum()"
      ],
      "execution_count": null,
      "outputs": [
        {
          "output_type": "execute_result",
          "data": {
            "text/plain": [
              "customer_id       0\n",
              "order_id          0\n",
              "order_date        0\n",
              "city              0\n",
              "product_id        0\n",
              "category          0\n",
              "sub_category      0\n",
              "product_name      0\n",
              "total_excl_vat    0\n",
              "quantity          0\n",
              "discount          0\n",
              "dtype: int64"
            ]
          },
          "metadata": {
            "tags": []
          },
          "execution_count": 199
        }
      ]
    },
    {
      "cell_type": "code",
      "metadata": {
        "colab": {
          "base_uri": "https://localhost:8080/"
        },
        "id": "B3Y1bcxlQ8db",
        "outputId": "ed99e3df-2f78-49f1-a1be-84426c66a304"
      },
      "source": [
        "df.nunique()"
      ],
      "execution_count": null,
      "outputs": [
        {
          "output_type": "execute_result",
          "data": {
            "text/plain": [
              "customer_id        793\n",
              "order_id          5009\n",
              "order_date        1237\n",
              "city               531\n",
              "product_id        1862\n",
              "category             3\n",
              "sub_category        17\n",
              "product_name      1850\n",
              "total_excl_vat    6144\n",
              "quantity            14\n",
              "discount            12\n",
              "dtype: int64"
            ]
          },
          "metadata": {
            "tags": []
          },
          "execution_count": 200
        }
      ]
    },
    {
      "cell_type": "markdown",
      "metadata": {
        "id": "xIhxR0xoTOC9"
      },
      "source": [
        "The number of unique product ids and product names is different, let's check for duplicates"
      ]
    },
    {
      "cell_type": "code",
      "metadata": {
        "colab": {
          "base_uri": "https://localhost:8080/"
        },
        "id": "kagjApVwTPIv",
        "outputId": "2dbf0210-ad27-4ef6-e458-a5e77e434d5a"
      },
      "source": [
        "print('Duplicate entries: {}'.format(df.duplicated().sum()))\n",
        "print('{}% rows are duplicate.'.format(round((df.duplicated().sum()/df.shape[0])*100),2))\n",
        "df.drop_duplicates(inplace = True)\n"
      ],
      "execution_count": null,
      "outputs": [
        {
          "output_type": "stream",
          "text": [
            "Duplicate entries: 1\n",
            "0% rows are duplicate.\n"
          ],
          "name": "stdout"
        }
      ]
    },
    {
      "cell_type": "markdown",
      "metadata": {
        "id": "keY4EJLz0Avw"
      },
      "source": [
        "First of all, we will group our data by cities, and to be more precise, by the sum of their sales and number of unique customers"
      ]
    },
    {
      "cell_type": "code",
      "metadata": {
        "id": "W0xl9sr4uK8i"
      },
      "source": [
        "sum_city = df.groupby(['city']).agg({'total_excl_vat': 'sum'}).sort_values('total_excl_vat', ascending=False)\n",
        "customer_city = df.groupby('city')['customer_id'].nunique().sort_values(ascending=False).reset_index()\n",
        "customer_city.columns = ['city', 'customers count']"
      ],
      "execution_count": null,
      "outputs": []
    },
    {
      "cell_type": "code",
      "metadata": {
        "colab": {
          "base_uri": "https://localhost:8080/",
          "height": 450
        },
        "id": "wbn-aNcFVW24",
        "outputId": "e2b50e79-8509-423e-b38b-c396d03a8c80"
      },
      "source": [
        "sum_city"
      ],
      "execution_count": null,
      "outputs": [
        {
          "output_type": "execute_result",
          "data": {
            "text/html": [
              "<div>\n",
              "<style scoped>\n",
              "    .dataframe tbody tr th:only-of-type {\n",
              "        vertical-align: middle;\n",
              "    }\n",
              "\n",
              "    .dataframe tbody tr th {\n",
              "        vertical-align: top;\n",
              "    }\n",
              "\n",
              "    .dataframe thead th {\n",
              "        text-align: right;\n",
              "    }\n",
              "</style>\n",
              "<table border=\"1\" class=\"dataframe\">\n",
              "  <thead>\n",
              "    <tr style=\"text-align: right;\">\n",
              "      <th></th>\n",
              "      <th>total_excl_vat</th>\n",
              "    </tr>\n",
              "    <tr>\n",
              "      <th>city</th>\n",
              "      <th></th>\n",
              "    </tr>\n",
              "  </thead>\n",
              "  <tbody>\n",
              "    <tr>\n",
              "      <th>New York City</th>\n",
              "      <td>256368.161</td>\n",
              "    </tr>\n",
              "    <tr>\n",
              "      <th>Los Angeles</th>\n",
              "      <td>175851.341</td>\n",
              "    </tr>\n",
              "    <tr>\n",
              "      <th>Seattle</th>\n",
              "      <td>119540.742</td>\n",
              "    </tr>\n",
              "    <tr>\n",
              "      <th>San Francisco</th>\n",
              "      <td>112669.092</td>\n",
              "    </tr>\n",
              "    <tr>\n",
              "      <th>Philadelphia</th>\n",
              "      <td>109077.013</td>\n",
              "    </tr>\n",
              "    <tr>\n",
              "      <th>...</th>\n",
              "      <td>...</td>\n",
              "    </tr>\n",
              "    <tr>\n",
              "      <th>Ormond Beach</th>\n",
              "      <td>2.808</td>\n",
              "    </tr>\n",
              "    <tr>\n",
              "      <th>Pensacola</th>\n",
              "      <td>2.214</td>\n",
              "    </tr>\n",
              "    <tr>\n",
              "      <th>Jupiter</th>\n",
              "      <td>2.064</td>\n",
              "    </tr>\n",
              "    <tr>\n",
              "      <th>Elyria</th>\n",
              "      <td>1.824</td>\n",
              "    </tr>\n",
              "    <tr>\n",
              "      <th>Abilene</th>\n",
              "      <td>1.392</td>\n",
              "    </tr>\n",
              "  </tbody>\n",
              "</table>\n",
              "<p>531 rows × 1 columns</p>\n",
              "</div>"
            ],
            "text/plain": [
              "               total_excl_vat\n",
              "city                         \n",
              "New York City      256368.161\n",
              "Los Angeles        175851.341\n",
              "Seattle            119540.742\n",
              "San Francisco      112669.092\n",
              "Philadelphia       109077.013\n",
              "...                       ...\n",
              "Ormond Beach            2.808\n",
              "Pensacola               2.214\n",
              "Jupiter                 2.064\n",
              "Elyria                  1.824\n",
              "Abilene                 1.392\n",
              "\n",
              "[531 rows x 1 columns]"
            ]
          },
          "metadata": {
            "tags": []
          },
          "execution_count": 203
        }
      ]
    },
    {
      "cell_type": "code",
      "metadata": {
        "colab": {
          "base_uri": "https://localhost:8080/",
          "height": 419
        },
        "id": "CqUFtmc2VZrV",
        "outputId": "56931820-5c9d-4b3e-981a-b162c68707c5"
      },
      "source": [
        "customer_city"
      ],
      "execution_count": null,
      "outputs": [
        {
          "output_type": "execute_result",
          "data": {
            "text/html": [
              "<div>\n",
              "<style scoped>\n",
              "    .dataframe tbody tr th:only-of-type {\n",
              "        vertical-align: middle;\n",
              "    }\n",
              "\n",
              "    .dataframe tbody tr th {\n",
              "        vertical-align: top;\n",
              "    }\n",
              "\n",
              "    .dataframe thead th {\n",
              "        text-align: right;\n",
              "    }\n",
              "</style>\n",
              "<table border=\"1\" class=\"dataframe\">\n",
              "  <thead>\n",
              "    <tr style=\"text-align: right;\">\n",
              "      <th></th>\n",
              "      <th>city</th>\n",
              "      <th>customers count</th>\n",
              "    </tr>\n",
              "  </thead>\n",
              "  <tbody>\n",
              "    <tr>\n",
              "      <th>0</th>\n",
              "      <td>New York City</td>\n",
              "      <td>355</td>\n",
              "    </tr>\n",
              "    <tr>\n",
              "      <th>1</th>\n",
              "      <td>Los Angeles</td>\n",
              "      <td>304</td>\n",
              "    </tr>\n",
              "    <tr>\n",
              "      <th>2</th>\n",
              "      <td>Philadelphia</td>\n",
              "      <td>239</td>\n",
              "    </tr>\n",
              "    <tr>\n",
              "      <th>3</th>\n",
              "      <td>San Francisco</td>\n",
              "      <td>232</td>\n",
              "    </tr>\n",
              "    <tr>\n",
              "      <th>4</th>\n",
              "      <td>Seattle</td>\n",
              "      <td>188</td>\n",
              "    </tr>\n",
              "    <tr>\n",
              "      <th>...</th>\n",
              "      <td>...</td>\n",
              "      <td>...</td>\n",
              "    </tr>\n",
              "    <tr>\n",
              "      <th>526</th>\n",
              "      <td>Gladstone</td>\n",
              "      <td>1</td>\n",
              "    </tr>\n",
              "    <tr>\n",
              "      <th>527</th>\n",
              "      <td>San Gabriel</td>\n",
              "      <td>1</td>\n",
              "    </tr>\n",
              "    <tr>\n",
              "      <th>528</th>\n",
              "      <td>Gastonia</td>\n",
              "      <td>1</td>\n",
              "    </tr>\n",
              "    <tr>\n",
              "      <th>529</th>\n",
              "      <td>Gaithersburg</td>\n",
              "      <td>1</td>\n",
              "    </tr>\n",
              "    <tr>\n",
              "      <th>530</th>\n",
              "      <td>Aberdeen</td>\n",
              "      <td>1</td>\n",
              "    </tr>\n",
              "  </tbody>\n",
              "</table>\n",
              "<p>531 rows × 2 columns</p>\n",
              "</div>"
            ],
            "text/plain": [
              "              city  customers count\n",
              "0    New York City              355\n",
              "1      Los Angeles              304\n",
              "2     Philadelphia              239\n",
              "3    San Francisco              232\n",
              "4          Seattle              188\n",
              "..             ...              ...\n",
              "526      Gladstone                1\n",
              "527    San Gabriel                1\n",
              "528       Gastonia                1\n",
              "529   Gaithersburg                1\n",
              "530       Aberdeen                1\n",
              "\n",
              "[531 rows x 2 columns]"
            ]
          },
          "metadata": {
            "tags": []
          },
          "execution_count": 204
        }
      ]
    },
    {
      "cell_type": "code",
      "metadata": {
        "id": "YoO93f7uEs1F",
        "colab": {
          "base_uri": "https://localhost:8080/",
          "height": 266
        },
        "outputId": "186415a9-3069-4603-cbda-55e410babd9a"
      },
      "source": [
        "not_top = len(sum_city) - 5\n",
        "not_top_sum = sum_city.tail(not_top).sum()\n",
        "top_cities = sum_city.head(5)\n",
        "top_cities.loc['Others'] = [not_top_sum.values[0]]\n",
        "top_cities"
      ],
      "execution_count": null,
      "outputs": [
        {
          "output_type": "execute_result",
          "data": {
            "text/html": [
              "<div>\n",
              "<style scoped>\n",
              "    .dataframe tbody tr th:only-of-type {\n",
              "        vertical-align: middle;\n",
              "    }\n",
              "\n",
              "    .dataframe tbody tr th {\n",
              "        vertical-align: top;\n",
              "    }\n",
              "\n",
              "    .dataframe thead th {\n",
              "        text-align: right;\n",
              "    }\n",
              "</style>\n",
              "<table border=\"1\" class=\"dataframe\">\n",
              "  <thead>\n",
              "    <tr style=\"text-align: right;\">\n",
              "      <th></th>\n",
              "      <th>total_excl_vat</th>\n",
              "    </tr>\n",
              "    <tr>\n",
              "      <th>city</th>\n",
              "      <th></th>\n",
              "    </tr>\n",
              "  </thead>\n",
              "  <tbody>\n",
              "    <tr>\n",
              "      <th>New York City</th>\n",
              "      <td>2.563682e+05</td>\n",
              "    </tr>\n",
              "    <tr>\n",
              "      <th>Los Angeles</th>\n",
              "      <td>1.758513e+05</td>\n",
              "    </tr>\n",
              "    <tr>\n",
              "      <th>Seattle</th>\n",
              "      <td>1.195407e+05</td>\n",
              "    </tr>\n",
              "    <tr>\n",
              "      <th>San Francisco</th>\n",
              "      <td>1.126691e+05</td>\n",
              "    </tr>\n",
              "    <tr>\n",
              "      <th>Philadelphia</th>\n",
              "      <td>1.090770e+05</td>\n",
              "    </tr>\n",
              "    <tr>\n",
              "      <th>Others</th>\n",
              "      <td>1.523413e+06</td>\n",
              "    </tr>\n",
              "  </tbody>\n",
              "</table>\n",
              "</div>"
            ],
            "text/plain": [
              "               total_excl_vat\n",
              "city                         \n",
              "New York City    2.563682e+05\n",
              "Los Angeles      1.758513e+05\n",
              "Seattle          1.195407e+05\n",
              "San Francisco    1.126691e+05\n",
              "Philadelphia     1.090770e+05\n",
              "Others           1.523413e+06"
            ]
          },
          "metadata": {
            "tags": []
          },
          "execution_count": 205
        }
      ]
    },
    {
      "cell_type": "code",
      "metadata": {
        "colab": {
          "base_uri": "https://localhost:8080/",
          "height": 779
        },
        "id": "SPQMo9DpvPi6",
        "outputId": "b0139cc9-45fc-45dd-9cde-74c29da45bce"
      },
      "source": [
        "# Pie chart\n",
        "labels = top_cities.index\n",
        "sizes = top_cities.values# only \"explode\" the 2nd slice (i.e. 'Hogs')\n",
        "explode = (0.1, 0, 0, 0, 0, 0)  \n",
        "\n",
        "fig1, ax1 = plt.subplots()\n",
        "ax1.pie(sizes, explode=explode, labels=labels, autopct='%1.1f%%',\n",
        "        shadow=True, startangle=90)# Equal aspect ratio ensures that pie is drawn as a circle\n",
        "ax1.axis('equal')  \n",
        "ax1.set_title('Top 5 cities with highest sales')\n",
        "\n",
        "plt.tight_layout()\n",
        "plt.show()"
      ],
      "execution_count": null,
      "outputs": [
        {
          "output_type": "stream",
          "text": [
            "/usr/local/lib/python3.7/dist-packages/ipykernel_launcher.py:8: MatplotlibDeprecationWarning: Non-1D inputs to pie() are currently squeeze()d, but this behavior is deprecated since 3.1 and will be removed in 3.3; pass a 1D array instead.\n",
            "  \n"
          ],
          "name": "stderr"
        },
        {
          "output_type": "display_data",
          "data": {
            "image/png": "[encoded data removed]",
            "text/plain": [
              "<Figure size 1152x720 with 1 Axes>"
            ]
          },
          "metadata": {
            "tags": []
          }
        }
      ]
    },
    {
      "cell_type": "markdown",
      "metadata": {
        "id": "oSmL8pMRXO8d"
      },
      "source": [
        "From both tables we can see that the top 5 cities in terms of both sales and unique customers remain the same, so for the sake of simplicity we will segment only San Francisco customers below.\n",
        "## San Francisco customers segmentation"
      ]
    },
    {
      "cell_type": "code",
      "metadata": {
        "id": "Z_6eR12KXPZM",
        "colab": {
          "base_uri": "https://localhost:8080/",
          "height": 204
        },
        "outputId": "7bfcb218-5c2a-460f-9dce-1502d4fc67e8"
      },
      "source": [
        "SF_data = df.loc[df['city'] == \"San Francisco\"]\n",
        "SF_data.reset_index(drop=True, inplace=True)\n",
        "SF_data.head()"
      ],
      "execution_count": null,
      "outputs": [
        {
          "output_type": "execute_result",
          "data": {
            "text/html": [
              "<div>\n",
              "<style scoped>\n",
              "    .dataframe tbody tr th:only-of-type {\n",
              "        vertical-align: middle;\n",
              "    }\n",
              "\n",
              "    .dataframe tbody tr th {\n",
              "        vertical-align: top;\n",
              "    }\n",
              "\n",
              "    .dataframe thead th {\n",
              "        text-align: right;\n",
              "    }\n",
              "</style>\n",
              "<table border=\"1\" class=\"dataframe\">\n",
              "  <thead>\n",
              "    <tr style=\"text-align: right;\">\n",
              "      <th></th>\n",
              "      <th>customer_id</th>\n",
              "      <th>order_id</th>\n",
              "      <th>order_date</th>\n",
              "      <th>city</th>\n",
              "      <th>product_id</th>\n",
              "      <th>category</th>\n",
              "      <th>sub_category</th>\n",
              "      <th>product_name</th>\n",
              "      <th>total_excl_vat</th>\n",
              "      <th>quantity</th>\n",
              "      <th>discount</th>\n",
              "    </tr>\n",
              "  </thead>\n",
              "  <tbody>\n",
              "    <tr>\n",
              "      <th>0</th>\n",
              "      <td>ZD-21925</td>\n",
              "      <td>CA-2014-143336</td>\n",
              "      <td>2014-08-27</td>\n",
              "      <td>San Francisco</td>\n",
              "      <td>OFF-AR-10003056</td>\n",
              "      <td>Office Supplies</td>\n",
              "      <td>Art</td>\n",
              "      <td>Newell 341</td>\n",
              "      <td>8.56</td>\n",
              "      <td>2</td>\n",
              "      <td>0.0</td>\n",
              "    </tr>\n",
              "    <tr>\n",
              "      <th>1</th>\n",
              "      <td>ZD-21925</td>\n",
              "      <td>CA-2014-143336</td>\n",
              "      <td>2014-08-27</td>\n",
              "      <td>San Francisco</td>\n",
              "      <td>TEC-PH-10001949</td>\n",
              "      <td>Technology</td>\n",
              "      <td>Phones</td>\n",
              "      <td>Cisco SPA 501G IP Phone</td>\n",
              "      <td>213.48</td>\n",
              "      <td>3</td>\n",
              "      <td>0.2</td>\n",
              "    </tr>\n",
              "    <tr>\n",
              "      <th>2</th>\n",
              "      <td>ZD-21925</td>\n",
              "      <td>CA-2014-143336</td>\n",
              "      <td>2014-08-27</td>\n",
              "      <td>San Francisco</td>\n",
              "      <td>OFF-BI-10002215</td>\n",
              "      <td>Office Supplies</td>\n",
              "      <td>Binders</td>\n",
              "      <td>Wilson Jones Hanging View Binder, White, 1\"</td>\n",
              "      <td>22.72</td>\n",
              "      <td>4</td>\n",
              "      <td>0.2</td>\n",
              "    </tr>\n",
              "    <tr>\n",
              "      <th>3</th>\n",
              "      <td>DN-13690</td>\n",
              "      <td>CA-2014-139451</td>\n",
              "      <td>2014-10-12</td>\n",
              "      <td>San Francisco</td>\n",
              "      <td>OFF-AR-10002053</td>\n",
              "      <td>Office Supplies</td>\n",
              "      <td>Art</td>\n",
              "      <td>Premium Writing Pencils, Soft, #2 by Central A...</td>\n",
              "      <td>14.90</td>\n",
              "      <td>5</td>\n",
              "      <td>0.0</td>\n",
              "    </tr>\n",
              "    <tr>\n",
              "      <th>4</th>\n",
              "      <td>DN-13690</td>\n",
              "      <td>CA-2014-139451</td>\n",
              "      <td>2014-10-12</td>\n",
              "      <td>San Francisco</td>\n",
              "      <td>OFF-ST-10002370</td>\n",
              "      <td>Office Supplies</td>\n",
              "      <td>Storage</td>\n",
              "      <td>Sortfiler Multipurpose Personal File Organizer...</td>\n",
              "      <td>21.39</td>\n",
              "      <td>1</td>\n",
              "      <td>0.0</td>\n",
              "    </tr>\n",
              "  </tbody>\n",
              "</table>\n",
              "</div>"
            ],
            "text/plain": [
              "  customer_id        order_id order_date  ... total_excl_vat quantity discount\n",
              "0    ZD-21925  CA-2014-143336 2014-08-27  ...           8.56        2      0.0\n",
              "1    ZD-21925  CA-2014-143336 2014-08-27  ...         213.48        3      0.2\n",
              "2    ZD-21925  CA-2014-143336 2014-08-27  ...          22.72        4      0.2\n",
              "3    DN-13690  CA-2014-139451 2014-10-12  ...          14.90        5      0.0\n",
              "4    DN-13690  CA-2014-139451 2014-10-12  ...          21.39        1      0.0\n",
              "\n",
              "[5 rows x 11 columns]"
            ]
          },
          "metadata": {
            "tags": []
          },
          "execution_count": 207
        }
      ]
    },
    {
      "cell_type": "code",
      "metadata": {
        "colab": {
          "base_uri": "https://localhost:8080/"
        },
        "id": "fi4rY1YGonYH",
        "outputId": "f8e5916c-baf2-40e3-ba1e-0f5ffa665f05"
      },
      "source": [
        "SF_data.nunique()"
      ],
      "execution_count": null,
      "outputs": [
        {
          "output_type": "execute_result",
          "data": {
            "text/plain": [
              "customer_id       232\n",
              "order_id          265\n",
              "order_date        234\n",
              "city                1\n",
              "product_id        450\n",
              "category            3\n",
              "sub_category       17\n",
              "product_name      447\n",
              "total_excl_vat    470\n",
              "quantity           14\n",
              "discount            3\n",
              "dtype: int64"
            ]
          },
          "metadata": {
            "tags": []
          },
          "execution_count": 208
        }
      ]
    },
    {
      "cell_type": "code",
      "metadata": {
        "colab": {
          "base_uri": "https://localhost:8080/",
          "height": 297
        },
        "id": "6NI6e56BuxpB",
        "outputId": "71aac00a-174e-4df0-c4a0-ae0170d9853a"
      },
      "source": [
        "SF_data.describe()"
      ],
      "execution_count": null,
      "outputs": [
        {
          "output_type": "execute_result",
          "data": {
            "text/html": [
              "<div>\n",
              "<style scoped>\n",
              "    .dataframe tbody tr th:only-of-type {\n",
              "        vertical-align: middle;\n",
              "    }\n",
              "\n",
              "    .dataframe tbody tr th {\n",
              "        vertical-align: top;\n",
              "    }\n",
              "\n",
              "    .dataframe thead th {\n",
              "        text-align: right;\n",
              "    }\n",
              "</style>\n",
              "<table border=\"1\" class=\"dataframe\">\n",
              "  <thead>\n",
              "    <tr style=\"text-align: right;\">\n",
              "      <th></th>\n",
              "      <th>total_excl_vat</th>\n",
              "      <th>quantity</th>\n",
              "      <th>discount</th>\n",
              "    </tr>\n",
              "  </thead>\n",
              "  <tbody>\n",
              "    <tr>\n",
              "      <th>count</th>\n",
              "      <td>510.000000</td>\n",
              "      <td>510.000000</td>\n",
              "      <td>510.000000</td>\n",
              "    </tr>\n",
              "    <tr>\n",
              "      <th>mean</th>\n",
              "      <td>220.919788</td>\n",
              "      <td>3.794118</td>\n",
              "      <td>0.066667</td>\n",
              "    </tr>\n",
              "    <tr>\n",
              "      <th>std</th>\n",
              "      <td>575.006082</td>\n",
              "      <td>2.291773</td>\n",
              "      <td>0.093116</td>\n",
              "    </tr>\n",
              "    <tr>\n",
              "      <th>min</th>\n",
              "      <td>0.990000</td>\n",
              "      <td>1.000000</td>\n",
              "      <td>0.000000</td>\n",
              "    </tr>\n",
              "    <tr>\n",
              "      <th>25%</th>\n",
              "      <td>19.213500</td>\n",
              "      <td>2.000000</td>\n",
              "      <td>0.000000</td>\n",
              "    </tr>\n",
              "    <tr>\n",
              "      <th>50%</th>\n",
              "      <td>49.159000</td>\n",
              "      <td>3.000000</td>\n",
              "      <td>0.000000</td>\n",
              "    </tr>\n",
              "    <tr>\n",
              "      <th>75%</th>\n",
              "      <td>190.617000</td>\n",
              "      <td>5.000000</td>\n",
              "      <td>0.200000</td>\n",
              "    </tr>\n",
              "    <tr>\n",
              "      <th>max</th>\n",
              "      <td>8187.650000</td>\n",
              "      <td>14.000000</td>\n",
              "      <td>0.200000</td>\n",
              "    </tr>\n",
              "  </tbody>\n",
              "</table>\n",
              "</div>"
            ],
            "text/plain": [
              "       total_excl_vat    quantity    discount\n",
              "count      510.000000  510.000000  510.000000\n",
              "mean       220.919788    3.794118    0.066667\n",
              "std        575.006082    2.291773    0.093116\n",
              "min          0.990000    1.000000    0.000000\n",
              "25%         19.213500    2.000000    0.000000\n",
              "50%         49.159000    3.000000    0.000000\n",
              "75%        190.617000    5.000000    0.200000\n",
              "max       8187.650000   14.000000    0.200000"
            ]
          },
          "metadata": {
            "tags": []
          },
          "execution_count": 209
        }
      ]
    },
    {
      "cell_type": "markdown",
      "metadata": {
        "id": "4RN7AYc7r9kH"
      },
      "source": [
        "As we can see, average order size is 220$, but there is also sam bigger orders (outliers).\n",
        "Now lets move to our customers and check how often and how much they are buying.\n",
        "## RFM analysis\n",
        "\n",
        "\n",
        "*   Recency, Calculate the number of days between present date and date of last purchase each customer.\n",
        "*   Frequency, Calculate the number of orders for each customer.\n",
        "*   Monetary, Calculate sum of purchase price for each customer.\n",
        "\n",
        "\n",
        "\n"
      ]
    },
    {
      "cell_type": "code",
      "metadata": {
        "colab": {
          "base_uri": "https://localhost:8080/"
        },
        "id": "j2M6IyHruqQg",
        "outputId": "2f73d7f3-cfe9-4e84-c96b-0d3b6c6b701d"
      },
      "source": [
        "print(\"First order date:\", SF_data['order_date'].min())\n",
        "print(\"Last order date:\", SF_data['order_date'].max())\n",
        "last_order = SF_data['order_date'].max()"
      ],
      "execution_count": null,
      "outputs": [
        {
          "output_type": "stream",
          "text": [
            "First order date: 2014-01-13 00:00:00\n",
            "Last order date: 2017-12-28 00:00:00\n"
          ],
          "name": "stdout"
        }
      ]
    },
    {
      "cell_type": "code",
      "metadata": {
        "id": "aOj_n33dyl0N"
      },
      "source": [
        "#PRESENT = dt.datetime(last_order.year, last_order.month, last_order.day+1)\n",
        "#PRESENT"
      ],
      "execution_count": null,
      "outputs": []
    },
    {
      "cell_type": "code",
      "metadata": {
        "colab": {
          "base_uri": "https://localhost:8080/"
        },
        "id": "gF-ZqL5ui3h9",
        "outputId": "edf222a8-5e44-4ba6-eded-43e571433839"
      },
      "source": [
        "all_dates = (pd.to_datetime(SF_data['order_date'])).apply(lambda x:x.date())\n",
        "all_dates"
      ],
      "execution_count": null,
      "outputs": [
        {
          "output_type": "execute_result",
          "data": {
            "text/plain": [
              "0      2014-08-27\n",
              "1      2014-08-27\n",
              "2      2014-08-27\n",
              "3      2014-10-12\n",
              "4      2014-10-12\n",
              "          ...    \n",
              "505    2017-06-19\n",
              "506    2017-06-19\n",
              "507    2016-09-04\n",
              "508    2016-09-04\n",
              "509    2017-11-24\n",
              "Name: order_date, Length: 510, dtype: object"
            ]
          },
          "metadata": {
            "tags": []
          },
          "execution_count": 212
        }
      ]
    },
    {
      "cell_type": "code",
      "metadata": {
        "colab": {
          "base_uri": "https://localhost:8080/"
        },
        "id": "RlAJDlGlkIYL",
        "outputId": "d90f3667-e338-4dd0-b5d6-55fde5de90f6"
      },
      "source": [
        "snapshot_date = max(SF_data.order_date) + dt.timedelta(days=1)\n",
        "snapshot_date"
      ],
      "execution_count": null,
      "outputs": [
        {
          "output_type": "execute_result",
          "data": {
            "text/plain": [
              "Timestamp('2017-12-29 00:00:00')"
            ]
          },
          "metadata": {
            "tags": []
          },
          "execution_count": 213
        }
      ]
    },
    {
      "cell_type": "code",
      "metadata": {
        "colab": {
          "base_uri": "https://localhost:8080/"
        },
        "id": "x5T1BYhQjk5j",
        "outputId": "024dc497-39db-45b6-dee9-2f96e0f923d2"
      },
      "source": [
        "# Aggregate data on a customer level\n",
        "SF_rfm = SF_data.groupby(['customer_id'],as_index=False).agg({'order_date': lambda x: (snapshot_date - x.max()).days,\n",
        "                                             'order_id': 'count',\n",
        "                                             'total_excl_vat': 'sum'}).rename(columns = {'order_date': 'recency',\n",
        "                                                                                   'order_id': 'frequency',\n",
        "                                                                                   'total_excl_vat': 'monetary'})\n",
        "SF_rfm.describe"
      ],
      "execution_count": null,
      "outputs": [
        {
          "output_type": "execute_result",
          "data": {
            "text/plain": [
              "<bound method NDFrame.describe of     customer_id  recency  frequency  monetary\n",
              "0      AA-10315      817          3   753.508\n",
              "1      AA-10645      543          4  1376.445\n",
              "2      AC-10420     1266          2   706.064\n",
              "3      AC-10660      550          2   286.368\n",
              "4      AD-10180      243          1   163.960\n",
              "..          ...      ...        ...       ...\n",
              "227    VG-21790      334          3   136.526\n",
              "228    VP-21760     1210          2   100.360\n",
              "229    VW-21775       27          4   699.436\n",
              "230    YC-21895      631          1  1199.976\n",
              "231    ZD-21925     1220          3   244.760\n",
              "\n",
              "[232 rows x 4 columns]>"
            ]
          },
          "metadata": {
            "tags": []
          },
          "execution_count": 214
        }
      ]
    },
    {
      "cell_type": "code",
      "metadata": {
        "colab": {
          "base_uri": "https://localhost:8080/",
          "height": 419
        },
        "id": "EJ-2XX-xey-u",
        "outputId": "1a78c9cc-100c-4573-9c22-4d3d34fb1869"
      },
      "source": [
        "SF_rfm"
      ],
      "execution_count": null,
      "outputs": [
        {
          "output_type": "execute_result",
          "data": {
            "text/html": [
              "<div>\n",
              "<style scoped>\n",
              "    .dataframe tbody tr th:only-of-type {\n",
              "        vertical-align: middle;\n",
              "    }\n",
              "\n",
              "    .dataframe tbody tr th {\n",
              "        vertical-align: top;\n",
              "    }\n",
              "\n",
              "    .dataframe thead th {\n",
              "        text-align: right;\n",
              "    }\n",
              "</style>\n",
              "<table border=\"1\" class=\"dataframe\">\n",
              "  <thead>\n",
              "    <tr style=\"text-align: right;\">\n",
              "      <th></th>\n",
              "      <th>customer_id</th>\n",
              "      <th>recency</th>\n",
              "      <th>frequency</th>\n",
              "      <th>monetary</th>\n",
              "    </tr>\n",
              "  </thead>\n",
              "  <tbody>\n",
              "    <tr>\n",
              "      <th>0</th>\n",
              "      <td>AA-10315</td>\n",
              "      <td>817</td>\n",
              "      <td>3</td>\n",
              "      <td>753.508</td>\n",
              "    </tr>\n",
              "    <tr>\n",
              "      <th>1</th>\n",
              "      <td>AA-10645</td>\n",
              "      <td>543</td>\n",
              "      <td>4</td>\n",
              "      <td>1376.445</td>\n",
              "    </tr>\n",
              "    <tr>\n",
              "      <th>2</th>\n",
              "      <td>AC-10420</td>\n",
              "      <td>1266</td>\n",
              "      <td>2</td>\n",
              "      <td>706.064</td>\n",
              "    </tr>\n",
              "    <tr>\n",
              "      <th>3</th>\n",
              "      <td>AC-10660</td>\n",
              "      <td>550</td>\n",
              "      <td>2</td>\n",
              "      <td>286.368</td>\n",
              "    </tr>\n",
              "    <tr>\n",
              "      <th>4</th>\n",
              "      <td>AD-10180</td>\n",
              "      <td>243</td>\n",
              "      <td>1</td>\n",
              "      <td>163.960</td>\n",
              "    </tr>\n",
              "    <tr>\n",
              "      <th>...</th>\n",
              "      <td>...</td>\n",
              "      <td>...</td>\n",
              "      <td>...</td>\n",
              "      <td>...</td>\n",
              "    </tr>\n",
              "    <tr>\n",
              "      <th>227</th>\n",
              "      <td>VG-21790</td>\n",
              "      <td>334</td>\n",
              "      <td>3</td>\n",
              "      <td>136.526</td>\n",
              "    </tr>\n",
              "    <tr>\n",
              "      <th>228</th>\n",
              "      <td>VP-21760</td>\n",
              "      <td>1210</td>\n",
              "      <td>2</td>\n",
              "      <td>100.360</td>\n",
              "    </tr>\n",
              "    <tr>\n",
              "      <th>229</th>\n",
              "      <td>VW-21775</td>\n",
              "      <td>27</td>\n",
              "      <td>4</td>\n",
              "      <td>699.436</td>\n",
              "    </tr>\n",
              "    <tr>\n",
              "      <th>230</th>\n",
              "      <td>YC-21895</td>\n",
              "      <td>631</td>\n",
              "      <td>1</td>\n",
              "      <td>1199.976</td>\n",
              "    </tr>\n",
              "    <tr>\n",
              "      <th>231</th>\n",
              "      <td>ZD-21925</td>\n",
              "      <td>1220</td>\n",
              "      <td>3</td>\n",
              "      <td>244.760</td>\n",
              "    </tr>\n",
              "  </tbody>\n",
              "</table>\n",
              "<p>232 rows × 4 columns</p>\n",
              "</div>"
            ],
            "text/plain": [
              "    customer_id  recency  frequency  monetary\n",
              "0      AA-10315      817          3   753.508\n",
              "1      AA-10645      543          4  1376.445\n",
              "2      AC-10420     1266          2   706.064\n",
              "3      AC-10660      550          2   286.368\n",
              "4      AD-10180      243          1   163.960\n",
              "..          ...      ...        ...       ...\n",
              "227    VG-21790      334          3   136.526\n",
              "228    VP-21760     1210          2   100.360\n",
              "229    VW-21775       27          4   699.436\n",
              "230    YC-21895      631          1  1199.976\n",
              "231    ZD-21925     1220          3   244.760\n",
              "\n",
              "[232 rows x 4 columns]"
            ]
          },
          "metadata": {
            "tags": []
          },
          "execution_count": 215
        }
      ]
    },
    {
      "cell_type": "code",
      "metadata": {
        "id": "uT_iD7710dF5"
      },
      "source": [
        "SF_rfm['r_q'] = pd.qcut(SF_rfm['recency'], 4, labels = range(4,0,-1))\n",
        "SF_rfm['f_q'] = pd.qcut(SF_rfm['frequency'].rank(method='first'), 4, labels = range(1,5))\n",
        "SF_rfm['m_q'] = pd.qcut(SF_rfm['monetary'], 4, labels = range(1,5))\n"
      ],
      "execution_count": null,
      "outputs": []
    },
    {
      "cell_type": "code",
      "metadata": {
        "colab": {
          "base_uri": "https://localhost:8080/",
          "height": 419
        },
        "id": "8QsUrL4C2Awj",
        "outputId": "da99e315-9c8d-4cf9-9d68-3f044b94314a"
      },
      "source": [
        "SF_rfm"
      ],
      "execution_count": null,
      "outputs": [
        {
          "output_type": "execute_result",
          "data": {
            "text/html": [
              "<div>\n",
              "<style scoped>\n",
              "    .dataframe tbody tr th:only-of-type {\n",
              "        vertical-align: middle;\n",
              "    }\n",
              "\n",
              "    .dataframe tbody tr th {\n",
              "        vertical-align: top;\n",
              "    }\n",
              "\n",
              "    .dataframe thead th {\n",
              "        text-align: right;\n",
              "    }\n",
              "</style>\n",
              "<table border=\"1\" class=\"dataframe\">\n",
              "  <thead>\n",
              "    <tr style=\"text-align: right;\">\n",
              "      <th></th>\n",
              "      <th>customer_id</th>\n",
              "      <th>recency</th>\n",
              "      <th>frequency</th>\n",
              "      <th>monetary</th>\n",
              "      <th>r_q</th>\n",
              "      <th>f_q</th>\n",
              "      <th>m_q</th>\n",
              "    </tr>\n",
              "  </thead>\n",
              "  <tbody>\n",
              "    <tr>\n",
              "      <th>0</th>\n",
              "      <td>AA-10315</td>\n",
              "      <td>817</td>\n",
              "      <td>3</td>\n",
              "      <td>753.508</td>\n",
              "      <td>2</td>\n",
              "      <td>3</td>\n",
              "      <td>4</td>\n",
              "    </tr>\n",
              "    <tr>\n",
              "      <th>1</th>\n",
              "      <td>AA-10645</td>\n",
              "      <td>543</td>\n",
              "      <td>4</td>\n",
              "      <td>1376.445</td>\n",
              "      <td>2</td>\n",
              "      <td>4</td>\n",
              "      <td>4</td>\n",
              "    </tr>\n",
              "    <tr>\n",
              "      <th>2</th>\n",
              "      <td>AC-10420</td>\n",
              "      <td>1266</td>\n",
              "      <td>2</td>\n",
              "      <td>706.064</td>\n",
              "      <td>1</td>\n",
              "      <td>2</td>\n",
              "      <td>4</td>\n",
              "    </tr>\n",
              "    <tr>\n",
              "      <th>3</th>\n",
              "      <td>AC-10660</td>\n",
              "      <td>550</td>\n",
              "      <td>2</td>\n",
              "      <td>286.368</td>\n",
              "      <td>2</td>\n",
              "      <td>2</td>\n",
              "      <td>3</td>\n",
              "    </tr>\n",
              "    <tr>\n",
              "      <th>4</th>\n",
              "      <td>AD-10180</td>\n",
              "      <td>243</td>\n",
              "      <td>1</td>\n",
              "      <td>163.960</td>\n",
              "      <td>3</td>\n",
              "      <td>1</td>\n",
              "      <td>2</td>\n",
              "    </tr>\n",
              "    <tr>\n",
              "      <th>...</th>\n",
              "      <td>...</td>\n",
              "      <td>...</td>\n",
              "      <td>...</td>\n",
              "      <td>...</td>\n",
              "      <td>...</td>\n",
              "      <td>...</td>\n",
              "      <td>...</td>\n",
              "    </tr>\n",
              "    <tr>\n",
              "      <th>227</th>\n",
              "      <td>VG-21790</td>\n",
              "      <td>334</td>\n",
              "      <td>3</td>\n",
              "      <td>136.526</td>\n",
              "      <td>3</td>\n",
              "      <td>4</td>\n",
              "      <td>2</td>\n",
              "    </tr>\n",
              "    <tr>\n",
              "      <th>228</th>\n",
              "      <td>VP-21760</td>\n",
              "      <td>1210</td>\n",
              "      <td>2</td>\n",
              "      <td>100.360</td>\n",
              "      <td>1</td>\n",
              "      <td>3</td>\n",
              "      <td>2</td>\n",
              "    </tr>\n",
              "    <tr>\n",
              "      <th>229</th>\n",
              "      <td>VW-21775</td>\n",
              "      <td>27</td>\n",
              "      <td>4</td>\n",
              "      <td>699.436</td>\n",
              "      <td>4</td>\n",
              "      <td>4</td>\n",
              "      <td>4</td>\n",
              "    </tr>\n",
              "    <tr>\n",
              "      <th>230</th>\n",
              "      <td>YC-21895</td>\n",
              "      <td>631</td>\n",
              "      <td>1</td>\n",
              "      <td>1199.976</td>\n",
              "      <td>2</td>\n",
              "      <td>2</td>\n",
              "      <td>4</td>\n",
              "    </tr>\n",
              "    <tr>\n",
              "      <th>231</th>\n",
              "      <td>ZD-21925</td>\n",
              "      <td>1220</td>\n",
              "      <td>3</td>\n",
              "      <td>244.760</td>\n",
              "      <td>1</td>\n",
              "      <td>4</td>\n",
              "      <td>3</td>\n",
              "    </tr>\n",
              "  </tbody>\n",
              "</table>\n",
              "<p>232 rows × 7 columns</p>\n",
              "</div>"
            ],
            "text/plain": [
              "    customer_id  recency  frequency  monetary r_q f_q m_q\n",
              "0      AA-10315      817          3   753.508   2   3   4\n",
              "1      AA-10645      543          4  1376.445   2   4   4\n",
              "2      AC-10420     1266          2   706.064   1   2   4\n",
              "3      AC-10660      550          2   286.368   2   2   3\n",
              "4      AD-10180      243          1   163.960   3   1   2\n",
              "..          ...      ...        ...       ...  ..  ..  ..\n",
              "227    VG-21790      334          3   136.526   3   4   2\n",
              "228    VP-21760     1210          2   100.360   1   3   2\n",
              "229    VW-21775       27          4   699.436   4   4   4\n",
              "230    YC-21895      631          1  1199.976   2   2   4\n",
              "231    ZD-21925     1220          3   244.760   1   4   3\n",
              "\n",
              "[232 rows x 7 columns]"
            ]
          },
          "metadata": {
            "tags": []
          },
          "execution_count": 217
        }
      ]
    },
    {
      "cell_type": "markdown",
      "metadata": {
        "id": "USYE9Uw06d86"
      },
      "source": [
        "Now lets sum quartiles to obtain RFM score"
      ]
    },
    {
      "cell_type": "code",
      "metadata": {
        "colab": {
          "base_uri": "https://localhost:8080/",
          "height": 204
        },
        "id": "jrdTiEqT4H5x",
        "outputId": "7cc8d908-4def-46bf-a901-84cc209c34aa"
      },
      "source": [
        "SF_rfm['RFM_score'] = SF_rfm[['r_q', 'f_q', 'm_q']].sum(axis=1)\n",
        "SF_rfm.head()"
      ],
      "execution_count": null,
      "outputs": [
        {
          "output_type": "execute_result",
          "data": {
            "text/html": [
              "<div>\n",
              "<style scoped>\n",
              "    .dataframe tbody tr th:only-of-type {\n",
              "        vertical-align: middle;\n",
              "    }\n",
              "\n",
              "    .dataframe tbody tr th {\n",
              "        vertical-align: top;\n",
              "    }\n",
              "\n",
              "    .dataframe thead th {\n",
              "        text-align: right;\n",
              "    }\n",
              "</style>\n",
              "<table border=\"1\" class=\"dataframe\">\n",
              "  <thead>\n",
              "    <tr style=\"text-align: right;\">\n",
              "      <th></th>\n",
              "      <th>customer_id</th>\n",
              "      <th>recency</th>\n",
              "      <th>frequency</th>\n",
              "      <th>monetary</th>\n",
              "      <th>r_q</th>\n",
              "      <th>f_q</th>\n",
              "      <th>m_q</th>\n",
              "      <th>RFM_score</th>\n",
              "    </tr>\n",
              "  </thead>\n",
              "  <tbody>\n",
              "    <tr>\n",
              "      <th>0</th>\n",
              "      <td>AA-10315</td>\n",
              "      <td>817</td>\n",
              "      <td>3</td>\n",
              "      <td>753.508</td>\n",
              "      <td>2</td>\n",
              "      <td>3</td>\n",
              "      <td>4</td>\n",
              "      <td>9</td>\n",
              "    </tr>\n",
              "    <tr>\n",
              "      <th>1</th>\n",
              "      <td>AA-10645</td>\n",
              "      <td>543</td>\n",
              "      <td>4</td>\n",
              "      <td>1376.445</td>\n",
              "      <td>2</td>\n",
              "      <td>4</td>\n",
              "      <td>4</td>\n",
              "      <td>10</td>\n",
              "    </tr>\n",
              "    <tr>\n",
              "      <th>2</th>\n",
              "      <td>AC-10420</td>\n",
              "      <td>1266</td>\n",
              "      <td>2</td>\n",
              "      <td>706.064</td>\n",
              "      <td>1</td>\n",
              "      <td>2</td>\n",
              "      <td>4</td>\n",
              "      <td>7</td>\n",
              "    </tr>\n",
              "    <tr>\n",
              "      <th>3</th>\n",
              "      <td>AC-10660</td>\n",
              "      <td>550</td>\n",
              "      <td>2</td>\n",
              "      <td>286.368</td>\n",
              "      <td>2</td>\n",
              "      <td>2</td>\n",
              "      <td>3</td>\n",
              "      <td>7</td>\n",
              "    </tr>\n",
              "    <tr>\n",
              "      <th>4</th>\n",
              "      <td>AD-10180</td>\n",
              "      <td>243</td>\n",
              "      <td>1</td>\n",
              "      <td>163.960</td>\n",
              "      <td>3</td>\n",
              "      <td>1</td>\n",
              "      <td>2</td>\n",
              "      <td>6</td>\n",
              "    </tr>\n",
              "  </tbody>\n",
              "</table>\n",
              "</div>"
            ],
            "text/plain": [
              "  customer_id  recency  frequency  monetary r_q f_q m_q  RFM_score\n",
              "0    AA-10315      817          3   753.508   2   3   4          9\n",
              "1    AA-10645      543          4  1376.445   2   4   4         10\n",
              "2    AC-10420     1266          2   706.064   1   2   4          7\n",
              "3    AC-10660      550          2   286.368   2   2   3          7\n",
              "4    AD-10180      243          1   163.960   3   1   2          6"
            ]
          },
          "metadata": {
            "tags": []
          },
          "execution_count": 218
        }
      ]
    },
    {
      "cell_type": "code",
      "metadata": {
        "colab": {
          "base_uri": "https://localhost:8080/",
          "height": 421
        },
        "id": "dyF-dHSf63Zv",
        "outputId": "9822d98a-3b38-446e-be3a-a96ba0d5e3e0"
      },
      "source": [
        "SF_rfm.groupby('RFM_score').agg({'recency': 'mean',\n",
        "                                   'frequency': 'mean',\n",
        "                                   'monetary': ['mean', 'count'] }).round(1)"
      ],
      "execution_count": null,
      "outputs": [
        {
          "output_type": "execute_result",
          "data": {
            "text/html": [
              "<div>\n",
              "<style scoped>\n",
              "    .dataframe tbody tr th:only-of-type {\n",
              "        vertical-align: middle;\n",
              "    }\n",
              "\n",
              "    .dataframe tbody tr th {\n",
              "        vertical-align: top;\n",
              "    }\n",
              "\n",
              "    .dataframe thead tr th {\n",
              "        text-align: left;\n",
              "    }\n",
              "\n",
              "    .dataframe thead tr:last-of-type th {\n",
              "        text-align: right;\n",
              "    }\n",
              "</style>\n",
              "<table border=\"1\" class=\"dataframe\">\n",
              "  <thead>\n",
              "    <tr>\n",
              "      <th></th>\n",
              "      <th>recency</th>\n",
              "      <th>frequency</th>\n",
              "      <th colspan=\"2\" halign=\"left\">monetary</th>\n",
              "    </tr>\n",
              "    <tr>\n",
              "      <th></th>\n",
              "      <th>mean</th>\n",
              "      <th>mean</th>\n",
              "      <th>mean</th>\n",
              "      <th>count</th>\n",
              "    </tr>\n",
              "    <tr>\n",
              "      <th>RFM_score</th>\n",
              "      <th></th>\n",
              "      <th></th>\n",
              "      <th></th>\n",
              "      <th></th>\n",
              "    </tr>\n",
              "  </thead>\n",
              "  <tbody>\n",
              "    <tr>\n",
              "      <th>3</th>\n",
              "      <td>1173.2</td>\n",
              "      <td>1.0</td>\n",
              "      <td>18.3</td>\n",
              "      <td>4</td>\n",
              "    </tr>\n",
              "    <tr>\n",
              "      <th>4</th>\n",
              "      <td>850.5</td>\n",
              "      <td>1.0</td>\n",
              "      <td>31.8</td>\n",
              "      <td>14</td>\n",
              "    </tr>\n",
              "    <tr>\n",
              "      <th>5</th>\n",
              "      <td>699.7</td>\n",
              "      <td>1.1</td>\n",
              "      <td>62.2</td>\n",
              "      <td>35</td>\n",
              "    </tr>\n",
              "    <tr>\n",
              "      <th>6</th>\n",
              "      <td>716.4</td>\n",
              "      <td>1.4</td>\n",
              "      <td>186.5</td>\n",
              "      <td>25</td>\n",
              "    </tr>\n",
              "    <tr>\n",
              "      <th>7</th>\n",
              "      <td>554.6</td>\n",
              "      <td>1.6</td>\n",
              "      <td>230.4</td>\n",
              "      <td>42</td>\n",
              "    </tr>\n",
              "    <tr>\n",
              "      <th>8</th>\n",
              "      <td>592.9</td>\n",
              "      <td>2.3</td>\n",
              "      <td>440.9</td>\n",
              "      <td>35</td>\n",
              "    </tr>\n",
              "    <tr>\n",
              "      <th>9</th>\n",
              "      <td>561.7</td>\n",
              "      <td>2.9</td>\n",
              "      <td>1040.1</td>\n",
              "      <td>33</td>\n",
              "    </tr>\n",
              "    <tr>\n",
              "      <th>10</th>\n",
              "      <td>314.3</td>\n",
              "      <td>3.0</td>\n",
              "      <td>896.1</td>\n",
              "      <td>18</td>\n",
              "    </tr>\n",
              "    <tr>\n",
              "      <th>11</th>\n",
              "      <td>146.8</td>\n",
              "      <td>4.0</td>\n",
              "      <td>854.2</td>\n",
              "      <td>16</td>\n",
              "    </tr>\n",
              "    <tr>\n",
              "      <th>12</th>\n",
              "      <td>84.1</td>\n",
              "      <td>5.4</td>\n",
              "      <td>1608.0</td>\n",
              "      <td>10</td>\n",
              "    </tr>\n",
              "  </tbody>\n",
              "</table>\n",
              "</div>"
            ],
            "text/plain": [
              "          recency frequency monetary      \n",
              "             mean      mean     mean count\n",
              "RFM_score                                 \n",
              "3          1173.2       1.0     18.3     4\n",
              "4           850.5       1.0     31.8    14\n",
              "5           699.7       1.1     62.2    35\n",
              "6           716.4       1.4    186.5    25\n",
              "7           554.6       1.6    230.4    42\n",
              "8           592.9       2.3    440.9    35\n",
              "9           561.7       2.9   1040.1    33\n",
              "10          314.3       3.0    896.1    18\n",
              "11          146.8       4.0    854.2    16\n",
              "12           84.1       5.4   1608.0    10"
            ]
          },
          "metadata": {
            "tags": []
          },
          "execution_count": 219
        }
      ]
    },
    {
      "cell_type": "code",
      "metadata": {
        "colab": {
          "base_uri": "https://localhost:8080/",
          "height": 297
        },
        "id": "626xfXnJ7K7Y",
        "outputId": "8e5adb16-b318-42ba-f10d-8cc3516de349"
      },
      "source": [
        "raw_data = SF_rfm[['recency','frequency','monetary','RFM_score']]\n",
        "raw_data.describe()"
      ],
      "execution_count": null,
      "outputs": [
        {
          "output_type": "execute_result",
          "data": {
            "text/html": [
              "<div>\n",
              "<style scoped>\n",
              "    .dataframe tbody tr th:only-of-type {\n",
              "        vertical-align: middle;\n",
              "    }\n",
              "\n",
              "    .dataframe tbody tr th {\n",
              "        vertical-align: top;\n",
              "    }\n",
              "\n",
              "    .dataframe thead th {\n",
              "        text-align: right;\n",
              "    }\n",
              "</style>\n",
              "<table border=\"1\" class=\"dataframe\">\n",
              "  <thead>\n",
              "    <tr style=\"text-align: right;\">\n",
              "      <th></th>\n",
              "      <th>recency</th>\n",
              "      <th>frequency</th>\n",
              "      <th>monetary</th>\n",
              "      <th>RFM_score</th>\n",
              "    </tr>\n",
              "  </thead>\n",
              "  <tbody>\n",
              "    <tr>\n",
              "      <th>count</th>\n",
              "      <td>232.000000</td>\n",
              "      <td>232.000000</td>\n",
              "      <td>232.000000</td>\n",
              "      <td>232.000000</td>\n",
              "    </tr>\n",
              "    <tr>\n",
              "      <th>mean</th>\n",
              "      <td>562.189655</td>\n",
              "      <td>2.198276</td>\n",
              "      <td>485.642638</td>\n",
              "      <td>7.500000</td>\n",
              "    </tr>\n",
              "    <tr>\n",
              "      <th>std</th>\n",
              "      <td>423.084989</td>\n",
              "      <td>1.521675</td>\n",
              "      <td>918.990980</td>\n",
              "      <td>2.213692</td>\n",
              "    </tr>\n",
              "    <tr>\n",
              "      <th>min</th>\n",
              "      <td>1.000000</td>\n",
              "      <td>1.000000</td>\n",
              "      <td>2.880000</td>\n",
              "      <td>3.000000</td>\n",
              "    </tr>\n",
              "    <tr>\n",
              "      <th>25%</th>\n",
              "      <td>194.500000</td>\n",
              "      <td>1.000000</td>\n",
              "      <td>53.302000</td>\n",
              "      <td>6.000000</td>\n",
              "    </tr>\n",
              "    <tr>\n",
              "      <th>50%</th>\n",
              "      <td>459.500000</td>\n",
              "      <td>2.000000</td>\n",
              "      <td>165.426000</td>\n",
              "      <td>7.000000</td>\n",
              "    </tr>\n",
              "    <tr>\n",
              "      <th>75%</th>\n",
              "      <td>876.250000</td>\n",
              "      <td>3.000000</td>\n",
              "      <td>476.412000</td>\n",
              "      <td>9.000000</td>\n",
              "    </tr>\n",
              "    <tr>\n",
              "      <th>max</th>\n",
              "      <td>1382.000000</td>\n",
              "      <td>9.000000</td>\n",
              "      <td>8319.290000</td>\n",
              "      <td>12.000000</td>\n",
              "    </tr>\n",
              "  </tbody>\n",
              "</table>\n",
              "</div>"
            ],
            "text/plain": [
              "           recency   frequency     monetary   RFM_score\n",
              "count   232.000000  232.000000   232.000000  232.000000\n",
              "mean    562.189655    2.198276   485.642638    7.500000\n",
              "std     423.084989    1.521675   918.990980    2.213692\n",
              "min       1.000000    1.000000     2.880000    3.000000\n",
              "25%     194.500000    1.000000    53.302000    6.000000\n",
              "50%     459.500000    2.000000   165.426000    7.000000\n",
              "75%     876.250000    3.000000   476.412000    9.000000\n",
              "max    1382.000000    9.000000  8319.290000   12.000000"
            ]
          },
          "metadata": {
            "tags": []
          },
          "execution_count": 220
        }
      ]
    },
    {
      "cell_type": "code",
      "metadata": {
        "id": "hM18wmX58yGX"
      },
      "source": [
        "# Unskew the data\n",
        "data_log = np.log(raw_data)#raw_data**(1/3)\n",
        "\n",
        "# standard scaler\n",
        "scaler = StandardScaler()\n",
        "scaler.fit(data_log)\n",
        "\n",
        "# Scale and center the data\n",
        "data_normalized = scaler.transform(data_log)\n",
        "\n",
        "# Create a pandas DataFrame\n",
        "data_norm = pd.DataFrame(data=data_log, index=raw_data.index, columns=raw_data.columns)"
      ],
      "execution_count": null,
      "outputs": []
    },
    {
      "cell_type": "code",
      "metadata": {
        "colab": {
          "base_uri": "https://localhost:8080/",
          "height": 204
        },
        "id": "wdioplbFAHUk",
        "outputId": "b3ca48f2-29fd-413a-aff4-7557aa3e9fa9"
      },
      "source": [
        "data_norm.head()"
      ],
      "execution_count": null,
      "outputs": [
        {
          "output_type": "execute_result",
          "data": {
            "text/html": [
              "<div>\n",
              "<style scoped>\n",
              "    .dataframe tbody tr th:only-of-type {\n",
              "        vertical-align: middle;\n",
              "    }\n",
              "\n",
              "    .dataframe tbody tr th {\n",
              "        vertical-align: top;\n",
              "    }\n",
              "\n",
              "    .dataframe thead th {\n",
              "        text-align: right;\n",
              "    }\n",
              "</style>\n",
              "<table border=\"1\" class=\"dataframe\">\n",
              "  <thead>\n",
              "    <tr style=\"text-align: right;\">\n",
              "      <th></th>\n",
              "      <th>recency</th>\n",
              "      <th>frequency</th>\n",
              "      <th>monetary</th>\n",
              "      <th>RFM_score</th>\n",
              "    </tr>\n",
              "  </thead>\n",
              "  <tbody>\n",
              "    <tr>\n",
              "      <th>0</th>\n",
              "      <td>6.705639</td>\n",
              "      <td>1.098612</td>\n",
              "      <td>6.624740</td>\n",
              "      <td>2.197225</td>\n",
              "    </tr>\n",
              "    <tr>\n",
              "      <th>1</th>\n",
              "      <td>6.297109</td>\n",
              "      <td>1.386294</td>\n",
              "      <td>7.227259</td>\n",
              "      <td>2.302585</td>\n",
              "    </tr>\n",
              "    <tr>\n",
              "      <th>2</th>\n",
              "      <td>7.143618</td>\n",
              "      <td>0.693147</td>\n",
              "      <td>6.559706</td>\n",
              "      <td>1.945910</td>\n",
              "    </tr>\n",
              "    <tr>\n",
              "      <th>3</th>\n",
              "      <td>6.309918</td>\n",
              "      <td>0.693147</td>\n",
              "      <td>5.657278</td>\n",
              "      <td>1.945910</td>\n",
              "    </tr>\n",
              "    <tr>\n",
              "      <th>4</th>\n",
              "      <td>5.493061</td>\n",
              "      <td>0.000000</td>\n",
              "      <td>5.099622</td>\n",
              "      <td>1.791759</td>\n",
              "    </tr>\n",
              "  </tbody>\n",
              "</table>\n",
              "</div>"
            ],
            "text/plain": [
              "    recency  frequency  monetary  RFM_score\n",
              "0  6.705639   1.098612  6.624740   2.197225\n",
              "1  6.297109   1.386294  7.227259   2.302585\n",
              "2  7.143618   0.693147  6.559706   1.945910\n",
              "3  6.309918   0.693147  5.657278   1.945910\n",
              "4  5.493061   0.000000  5.099622   1.791759"
            ]
          },
          "metadata": {
            "tags": []
          },
          "execution_count": 222
        }
      ]
    },
    {
      "cell_type": "code",
      "metadata": {
        "colab": {
          "base_uri": "https://localhost:8080/",
          "height": 894
        },
        "id": "ZDCbYhuMAO80",
        "outputId": "2c130305-0b99-44d3-94f3-d8e34fce6521"
      },
      "source": [
        "fig, ((ax1,ax2),(ax3,ax4)) = plt.subplots(nrows=2, ncols=2)\n",
        "fig.tight_layout()\n",
        "\n",
        "sn.distplot(data_norm['recency'], ax=ax1)\n",
        "sn.distplot(data_norm['frequency'], ax=ax2)\n",
        "sn.distplot(data_norm['monetary'], ax=ax3)\n",
        "sn.distplot(data_norm['RFM_score'], ax=ax4)\n",
        "\n",
        "plt.subplots_adjust(wspace=0.2, hspace=0.4)"
      ],
      "execution_count": null,
      "outputs": [
        {
          "output_type": "stream",
          "text": [
            "/usr/local/lib/python3.7/dist-packages/seaborn/distributions.py:2557: FutureWarning: `distplot` is a deprecated function and will be removed in a future version. Please adapt your code to use either `displot` (a figure-level function with similar flexibility) or `histplot` (an axes-level function for histograms).\n",
            "  warnings.warn(msg, FutureWarning)\n",
            "/usr/local/lib/python3.7/dist-packages/seaborn/distributions.py:2557: FutureWarning: `distplot` is a deprecated function and will be removed in a future version. Please adapt your code to use either `displot` (a figure-level function with similar flexibility) or `histplot` (an axes-level function for histograms).\n",
            "  warnings.warn(msg, FutureWarning)\n",
            "/usr/local/lib/python3.7/dist-packages/seaborn/distributions.py:2557: FutureWarning: `distplot` is a deprecated function and will be removed in a future version. Please adapt your code to use either `displot` (a figure-level function with similar flexibility) or `histplot` (an axes-level function for histograms).\n",
            "  warnings.warn(msg, FutureWarning)\n",
            "/usr/local/lib/python3.7/dist-packages/seaborn/distributions.py:2557: FutureWarning: `distplot` is a deprecated function and will be removed in a future version. Please adapt your code to use either `displot` (a figure-level function with similar flexibility) or `histplot` (an axes-level function for histograms).\n",
            "  warnings.warn(msg, FutureWarning)\n"
          ],
          "name": "stderr"
        },
        {
          "output_type": "display_data",
          "data": {
            "image/png": "[encoded data removed]",
            "text/plain": [
              "<Figure size 1152x720 with 4 Axes>"
            ]
          },
          "metadata": {
            "tags": []
          }
        }
      ]
    },
    {
      "cell_type": "code",
      "metadata": {
        "colab": {
          "base_uri": "https://localhost:8080/",
          "height": 797
        },
        "id": "hybY-8RnAePu",
        "outputId": "99788ec3-56fc-4f32-f1f3-4fe30e5838b6"
      },
      "source": [
        "sil = []\n",
        "\n",
        "for k in range(2, 12):\n",
        "  kmeans = KMeans(n_clusters = k).fit(data_norm)  \n",
        "  preds = kmeans.fit_predict(data_norm)\n",
        "  sil.append(silhouette_score(data_norm, preds, metric = 'euclidean'))\n",
        "\n",
        "\n",
        "plt.plot(range(2, 12), sil)\n",
        "plt.title('Silhouette Method')\n",
        "plt.xlabel('Number of clusters')\n",
        "plt.ylabel('Sil')\n",
        "plt.show()\n",
        "\n",
        "for i in range(len(sil)):\n",
        " print(str(i+2) +\":\"+ str(sil[i]))"
      ],
      "execution_count": null,
      "outputs": [
        {
          "output_type": "display_data",
          "data": {
            "image/png": "[encoded data removed]",
            "text/plain": [
              "<Figure size 1152x720 with 1 Axes>"
            ]
          },
          "metadata": {
            "tags": []
          }
        },
        {
          "output_type": "stream",
          "text": [
            "2:0.3545238473360516\n",
            "3:0.37540252386013995\n",
            "4:0.34294428172513797\n",
            "5:0.3394377714481222\n",
            "6:0.2875621729486967\n",
            "7:0.2859675495575166\n",
            "8:0.2883938952181037\n",
            "9:0.27130006150678887\n",
            "10:0.25732747781524395\n",
            "11:0.2615592939414232\n"
          ],
          "name": "stdout"
        }
      ]
    },
    {
      "cell_type": "code",
      "metadata": {
        "id": "lxJNm3W2B8lB"
      },
      "source": [
        "kmeans = KMeans(n_clusters = 3, random_state=144).fit(data_norm)  \n",
        "preds = kmeans.fit_predict(data_norm)"
      ],
      "execution_count": null,
      "outputs": []
    },
    {
      "cell_type": "code",
      "metadata": {
        "id": "FMKzhjKKBg_Y",
        "colab": {
          "base_uri": "https://localhost:8080/",
          "height": 665
        },
        "outputId": "0ffd5a2d-4107-4310-b70e-873ac20c77de"
      },
      "source": [
        "pca = PCA(n_components=2)\n",
        "pca_result = pca.fit_transform(data_norm)\n",
        "\n",
        "sn.scatterplot(pca_result[:,0], pca_result[:,1], hue=preds)"
      ],
      "execution_count": null,
      "outputs": [
        {
          "output_type": "stream",
          "text": [
            "/usr/local/lib/python3.7/dist-packages/seaborn/_decorators.py:43: FutureWarning: Pass the following variables as keyword args: x, y. From version 0.12, the only valid positional argument will be `data`, and passing other arguments without an explicit keyword will result in an error or misinterpretation.\n",
            "  FutureWarning\n"
          ],
          "name": "stderr"
        },
        {
          "output_type": "execute_result",
          "data": {
            "text/plain": [
              "<matplotlib.axes._subplots.AxesSubplot at 0x7f8e0ae80e90>"
            ]
          },
          "metadata": {
            "tags": []
          },
          "execution_count": 226
        },
        {
          "output_type": "display_data",
          "data": {
            "image/png": "[encoded data removed]",
            "text/plain": [
              "<Figure size 1152x720 with 1 Axes>"
            ]
          },
          "metadata": {
            "tags": []
          }
        }
      ]
    },
    {
      "cell_type": "code",
      "metadata": {
        "id": "jTHPxEJtD7HQ"
      },
      "source": [
        "SF_rfm['category'] = preds\n",
        "c0 = SF_rfm[SF_rfm['category'] == 0]\n",
        "c1 = SF_rfm[SF_rfm['category'] == 1]\n",
        "c2 = SF_rfm[SF_rfm['category'] == 2]"
      ],
      "execution_count": null,
      "outputs": []
    },
    {
      "cell_type": "code",
      "metadata": {
        "colab": {
          "base_uri": "https://localhost:8080/",
          "height": 297
        },
        "id": "9SS6-daAcsBZ",
        "outputId": "9fa79900-2af0-48dc-f5cb-88128c6257a4"
      },
      "source": [
        "c0.describe()"
      ],
      "execution_count": null,
      "outputs": [
        {
          "output_type": "execute_result",
          "data": {
            "text/html": [
              "<div>\n",
              "<style scoped>\n",
              "    .dataframe tbody tr th:only-of-type {\n",
              "        vertical-align: middle;\n",
              "    }\n",
              "\n",
              "    .dataframe tbody tr th {\n",
              "        vertical-align: top;\n",
              "    }\n",
              "\n",
              "    .dataframe thead th {\n",
              "        text-align: right;\n",
              "    }\n",
              "</style>\n",
              "<table border=\"1\" class=\"dataframe\">\n",
              "  <thead>\n",
              "    <tr style=\"text-align: right;\">\n",
              "      <th></th>\n",
              "      <th>recency</th>\n",
              "      <th>frequency</th>\n",
              "      <th>monetary</th>\n",
              "      <th>RFM_score</th>\n",
              "      <th>category</th>\n",
              "    </tr>\n",
              "  </thead>\n",
              "  <tbody>\n",
              "    <tr>\n",
              "      <th>count</th>\n",
              "      <td>95.000000</td>\n",
              "      <td>95.000000</td>\n",
              "      <td>95.000000</td>\n",
              "      <td>95.000000</td>\n",
              "      <td>95.0</td>\n",
              "    </tr>\n",
              "    <tr>\n",
              "      <th>mean</th>\n",
              "      <td>612.926316</td>\n",
              "      <td>1.378947</td>\n",
              "      <td>50.099453</td>\n",
              "      <td>5.631579</td>\n",
              "      <td>0.0</td>\n",
              "    </tr>\n",
              "    <tr>\n",
              "      <th>std</th>\n",
              "      <td>387.006741</td>\n",
              "      <td>0.717249</td>\n",
              "      <td>39.318379</td>\n",
              "      <td>1.288679</td>\n",
              "      <td>0.0</td>\n",
              "    </tr>\n",
              "    <tr>\n",
              "      <th>min</th>\n",
              "      <td>11.000000</td>\n",
              "      <td>1.000000</td>\n",
              "      <td>2.880000</td>\n",
              "      <td>3.000000</td>\n",
              "      <td>0.0</td>\n",
              "    </tr>\n",
              "    <tr>\n",
              "      <th>25%</th>\n",
              "      <td>312.000000</td>\n",
              "      <td>1.000000</td>\n",
              "      <td>15.768000</td>\n",
              "      <td>5.000000</td>\n",
              "      <td>0.0</td>\n",
              "    </tr>\n",
              "    <tr>\n",
              "      <th>50%</th>\n",
              "      <td>483.000000</td>\n",
              "      <td>1.000000</td>\n",
              "      <td>40.740000</td>\n",
              "      <td>5.000000</td>\n",
              "      <td>0.0</td>\n",
              "    </tr>\n",
              "    <tr>\n",
              "      <th>75%</th>\n",
              "      <td>886.000000</td>\n",
              "      <td>2.000000</td>\n",
              "      <td>72.336000</td>\n",
              "      <td>7.000000</td>\n",
              "      <td>0.0</td>\n",
              "    </tr>\n",
              "    <tr>\n",
              "      <th>max</th>\n",
              "      <td>1375.000000</td>\n",
              "      <td>4.000000</td>\n",
              "      <td>163.960000</td>\n",
              "      <td>9.000000</td>\n",
              "      <td>0.0</td>\n",
              "    </tr>\n",
              "  </tbody>\n",
              "</table>\n",
              "</div>"
            ],
            "text/plain": [
              "           recency  frequency    monetary  RFM_score  category\n",
              "count    95.000000  95.000000   95.000000  95.000000      95.0\n",
              "mean    612.926316   1.378947   50.099453   5.631579       0.0\n",
              "std     387.006741   0.717249   39.318379   1.288679       0.0\n",
              "min      11.000000   1.000000    2.880000   3.000000       0.0\n",
              "25%     312.000000   1.000000   15.768000   5.000000       0.0\n",
              "50%     483.000000   1.000000   40.740000   5.000000       0.0\n",
              "75%     886.000000   2.000000   72.336000   7.000000       0.0\n",
              "max    1375.000000   4.000000  163.960000   9.000000       0.0"
            ]
          },
          "metadata": {
            "tags": []
          },
          "execution_count": 228
        }
      ]
    },
    {
      "cell_type": "code",
      "metadata": {
        "colab": {
          "base_uri": "https://localhost:8080/",
          "height": 297
        },
        "id": "3i9dEz8qc6cx",
        "outputId": "aacc76dd-ec98-431c-d1c9-ddae1cf43d4a"
      },
      "source": [
        "c1.describe()"
      ],
      "execution_count": null,
      "outputs": [
        {
          "output_type": "execute_result",
          "data": {
            "text/html": [
              "<div>\n",
              "<style scoped>\n",
              "    .dataframe tbody tr th:only-of-type {\n",
              "        vertical-align: middle;\n",
              "    }\n",
              "\n",
              "    .dataframe tbody tr th {\n",
              "        vertical-align: top;\n",
              "    }\n",
              "\n",
              "    .dataframe thead th {\n",
              "        text-align: right;\n",
              "    }\n",
              "</style>\n",
              "<table border=\"1\" class=\"dataframe\">\n",
              "  <thead>\n",
              "    <tr style=\"text-align: right;\">\n",
              "      <th></th>\n",
              "      <th>recency</th>\n",
              "      <th>frequency</th>\n",
              "      <th>monetary</th>\n",
              "      <th>RFM_score</th>\n",
              "      <th>category</th>\n",
              "    </tr>\n",
              "  </thead>\n",
              "  <tbody>\n",
              "    <tr>\n",
              "      <th>count</th>\n",
              "      <td>48.000000</td>\n",
              "      <td>48.000000</td>\n",
              "      <td>48.000000</td>\n",
              "      <td>48.000000</td>\n",
              "      <td>48.0</td>\n",
              "    </tr>\n",
              "    <tr>\n",
              "      <th>mean</th>\n",
              "      <td>73.437500</td>\n",
              "      <td>2.875000</td>\n",
              "      <td>496.383437</td>\n",
              "      <td>9.812500</td>\n",
              "      <td>1.0</td>\n",
              "    </tr>\n",
              "    <tr>\n",
              "      <th>std</th>\n",
              "      <td>49.530092</td>\n",
              "      <td>1.852256</td>\n",
              "      <td>689.930961</td>\n",
              "      <td>1.525057</td>\n",
              "      <td>0.0</td>\n",
              "    </tr>\n",
              "    <tr>\n",
              "      <th>min</th>\n",
              "      <td>1.000000</td>\n",
              "      <td>1.000000</td>\n",
              "      <td>25.830000</td>\n",
              "      <td>7.000000</td>\n",
              "      <td>1.0</td>\n",
              "    </tr>\n",
              "    <tr>\n",
              "      <th>25%</th>\n",
              "      <td>33.500000</td>\n",
              "      <td>1.750000</td>\n",
              "      <td>156.810000</td>\n",
              "      <td>9.000000</td>\n",
              "      <td>1.0</td>\n",
              "    </tr>\n",
              "    <tr>\n",
              "      <th>50%</th>\n",
              "      <td>73.000000</td>\n",
              "      <td>2.000000</td>\n",
              "      <td>237.372000</td>\n",
              "      <td>10.000000</td>\n",
              "      <td>1.0</td>\n",
              "    </tr>\n",
              "    <tr>\n",
              "      <th>75%</th>\n",
              "      <td>105.000000</td>\n",
              "      <td>4.000000</td>\n",
              "      <td>519.813500</td>\n",
              "      <td>11.000000</td>\n",
              "      <td>1.0</td>\n",
              "    </tr>\n",
              "    <tr>\n",
              "      <th>max</th>\n",
              "      <td>240.000000</td>\n",
              "      <td>9.000000</td>\n",
              "      <td>3955.507000</td>\n",
              "      <td>12.000000</td>\n",
              "      <td>1.0</td>\n",
              "    </tr>\n",
              "  </tbody>\n",
              "</table>\n",
              "</div>"
            ],
            "text/plain": [
              "          recency  frequency     monetary  RFM_score  category\n",
              "count   48.000000  48.000000    48.000000  48.000000      48.0\n",
              "mean    73.437500   2.875000   496.383437   9.812500       1.0\n",
              "std     49.530092   1.852256   689.930961   1.525057       0.0\n",
              "min      1.000000   1.000000    25.830000   7.000000       1.0\n",
              "25%     33.500000   1.750000   156.810000   9.000000       1.0\n",
              "50%     73.000000   2.000000   237.372000  10.000000       1.0\n",
              "75%    105.000000   4.000000   519.813500  11.000000       1.0\n",
              "max    240.000000   9.000000  3955.507000  12.000000       1.0"
            ]
          },
          "metadata": {
            "tags": []
          },
          "execution_count": 229
        }
      ]
    },
    {
      "cell_type": "code",
      "metadata": {
        "colab": {
          "base_uri": "https://localhost:8080/",
          "height": 297
        },
        "id": "eS7DTmEGdEqY",
        "outputId": "3d82c342-875e-4e4c-d354-b30142a21983"
      },
      "source": [
        "c2.describe()"
      ],
      "execution_count": null,
      "outputs": [
        {
          "output_type": "execute_result",
          "data": {
            "text/html": [
              "<div>\n",
              "<style scoped>\n",
              "    .dataframe tbody tr th:only-of-type {\n",
              "        vertical-align: middle;\n",
              "    }\n",
              "\n",
              "    .dataframe tbody tr th {\n",
              "        vertical-align: top;\n",
              "    }\n",
              "\n",
              "    .dataframe thead th {\n",
              "        text-align: right;\n",
              "    }\n",
              "</style>\n",
              "<table border=\"1\" class=\"dataframe\">\n",
              "  <thead>\n",
              "    <tr style=\"text-align: right;\">\n",
              "      <th></th>\n",
              "      <th>recency</th>\n",
              "      <th>frequency</th>\n",
              "      <th>monetary</th>\n",
              "      <th>RFM_score</th>\n",
              "      <th>category</th>\n",
              "    </tr>\n",
              "  </thead>\n",
              "  <tbody>\n",
              "    <tr>\n",
              "      <th>count</th>\n",
              "      <td>89.000000</td>\n",
              "      <td>89.000000</td>\n",
              "      <td>89.000000</td>\n",
              "      <td>89.000000</td>\n",
              "      <td>89.0</td>\n",
              "    </tr>\n",
              "    <tr>\n",
              "      <th>mean</th>\n",
              "      <td>771.629213</td>\n",
              "      <td>2.707865</td>\n",
              "      <td>944.755494</td>\n",
              "      <td>8.247191</td>\n",
              "      <td>2.0</td>\n",
              "    </tr>\n",
              "    <tr>\n",
              "      <th>std</th>\n",
              "      <td>362.134248</td>\n",
              "      <td>1.568165</td>\n",
              "      <td>1242.182625</td>\n",
              "      <td>1.611612</td>\n",
              "      <td>0.0</td>\n",
              "    </tr>\n",
              "    <tr>\n",
              "      <th>min</th>\n",
              "      <td>154.000000</td>\n",
              "      <td>1.000000</td>\n",
              "      <td>135.936000</td>\n",
              "      <td>4.000000</td>\n",
              "      <td>2.0</td>\n",
              "    </tr>\n",
              "    <tr>\n",
              "      <th>25%</th>\n",
              "      <td>431.000000</td>\n",
              "      <td>2.000000</td>\n",
              "      <td>244.760000</td>\n",
              "      <td>7.000000</td>\n",
              "      <td>2.0</td>\n",
              "    </tr>\n",
              "    <tr>\n",
              "      <th>50%</th>\n",
              "      <td>796.000000</td>\n",
              "      <td>2.000000</td>\n",
              "      <td>479.970000</td>\n",
              "      <td>8.000000</td>\n",
              "      <td>2.0</td>\n",
              "    </tr>\n",
              "    <tr>\n",
              "      <th>75%</th>\n",
              "      <td>1127.000000</td>\n",
              "      <td>4.000000</td>\n",
              "      <td>1198.330000</td>\n",
              "      <td>9.000000</td>\n",
              "      <td>2.0</td>\n",
              "    </tr>\n",
              "    <tr>\n",
              "      <th>max</th>\n",
              "      <td>1382.000000</td>\n",
              "      <td>8.000000</td>\n",
              "      <td>8319.290000</td>\n",
              "      <td>12.000000</td>\n",
              "      <td>2.0</td>\n",
              "    </tr>\n",
              "  </tbody>\n",
              "</table>\n",
              "</div>"
            ],
            "text/plain": [
              "           recency  frequency     monetary  RFM_score  category\n",
              "count    89.000000  89.000000    89.000000  89.000000      89.0\n",
              "mean    771.629213   2.707865   944.755494   8.247191       2.0\n",
              "std     362.134248   1.568165  1242.182625   1.611612       0.0\n",
              "min     154.000000   1.000000   135.936000   4.000000       2.0\n",
              "25%     431.000000   2.000000   244.760000   7.000000       2.0\n",
              "50%     796.000000   2.000000   479.970000   8.000000       2.0\n",
              "75%    1127.000000   4.000000  1198.330000   9.000000       2.0\n",
              "max    1382.000000   8.000000  8319.290000  12.000000       2.0"
            ]
          },
          "metadata": {
            "tags": []
          },
          "execution_count": 230
        }
      ]
    },
    {
      "cell_type": "code",
      "metadata": {
        "id": "Xl6LI_CVr07G"
      },
      "source": [
        "df0 = SF_data[SF_data['customer_id'].isin(np.array(c0.customer_id))]\n",
        "df1 = SF_data[SF_data['customer_id'].isin(np.array(c1.customer_id))]\n",
        "df2 = SF_data[SF_data['customer_id'].isin(np.array(c2.customer_id))]"
      ],
      "execution_count": null,
      "outputs": []
    },
    {
      "cell_type": "code",
      "metadata": {
        "id": "8uWl6rjnxGRv"
      },
      "source": [
        "t0 = df0.groupby(['order_id'], as_index=False).agg({'total_excl_vat': 'sum'}).rename(columns = {'total_excl_vat': 'order_size'})\n",
        "t1 = df1.groupby(['order_id'], as_index=False).agg({'total_excl_vat': 'sum'}).rename(columns = {'total_excl_vat': 'order_size'})\n",
        "t2 = df2.groupby(['order_id'], as_index=False).agg({'total_excl_vat': 'sum'}).rename(columns = {'total_excl_vat': 'order_size'})"
      ],
      "execution_count": null,
      "outputs": []
    },
    {
      "cell_type": "code",
      "metadata": {
        "id": "cLAUs4ck0W-l"
      },
      "source": [
        "cnt0 = df0.groupby(['sub_category'], as_index=False).agg({'quantity': 'sum'}).rename(columns = {'quantity': 'total_quantity'})\n",
        "cnt1 = df1.groupby(['sub_category'], as_index=False).agg({'quantity': 'sum'}).rename(columns = {'quantity': 'total_quantity'})\n",
        "cnt2 = df2.groupby(['sub_category'], as_index=False).agg({'quantity': 'sum'}).rename(columns = {'quantity': 'total_quantity'})\n",
        "cnt0['cat']=0\n",
        "cnt1['cat']=1\n",
        "cnt2['cat']=2"
      ],
      "execution_count": null,
      "outputs": []
    },
    {
      "cell_type": "code",
      "metadata": {
        "id": "RCToLWqzx_hY"
      },
      "source": [
        "disc0 = df0.groupby(['customer_id'], as_index=False).agg({'discount': 'mean'})\n",
        "disc1 = df1.groupby(['customer_id'], as_index=False).agg({'discount': 'mean'})\n",
        "disc2 = df2.groupby(['customer_id'], as_index=False).agg({'discount': 'mean'})\n",
        "disc0['cat']=0\n",
        "disc1['cat']=1\n",
        "disc2['cat']=2"
      ],
      "execution_count": null,
      "outputs": []
    },
    {
      "cell_type": "code",
      "metadata": {
        "colab": {
          "base_uri": "https://localhost:8080/",
          "height": 766
        },
        "id": "Y0nAbXqQr__5",
        "outputId": "f3641929-6b91-4e4b-9fa6-3f250b2b75f2"
      },
      "source": [
        "sn.set(rc={'figure.figsize':(16,10)})\n",
        "\n",
        "sn.distplot(t0['order_size'], kde=True)\n",
        "sn.distplot(t1['order_size'], kde=True)\n",
        "sn.distplot(t2['order_size'], kde=True)\n",
        "# plt.axvline(np.mean(t1['order_size']),color='orange', linestyle='--')\n",
        "plt.xlim=(-300, 5000)\n",
        "plt.title(\"Order size histogram\")\n",
        "plt.legend(labels=['cat 0', 'cat 1', 'cat 2'])"
      ],
      "execution_count": null,
      "outputs": [
        {
          "output_type": "stream",
          "text": [
            "/usr/local/lib/python3.7/dist-packages/seaborn/distributions.py:2557: FutureWarning: `distplot` is a deprecated function and will be removed in a future version. Please adapt your code to use either `displot` (a figure-level function with similar flexibility) or `histplot` (an axes-level function for histograms).\n",
            "  warnings.warn(msg, FutureWarning)\n",
            "/usr/local/lib/python3.7/dist-packages/seaborn/distributions.py:2557: FutureWarning: `distplot` is a deprecated function and will be removed in a future version. Please adapt your code to use either `displot` (a figure-level function with similar flexibility) or `histplot` (an axes-level function for histograms).\n",
            "  warnings.warn(msg, FutureWarning)\n",
            "/usr/local/lib/python3.7/dist-packages/seaborn/distributions.py:2557: FutureWarning: `distplot` is a deprecated function and will be removed in a future version. Please adapt your code to use either `displot` (a figure-level function with similar flexibility) or `histplot` (an axes-level function for histograms).\n",
            "  warnings.warn(msg, FutureWarning)\n"
          ],
          "name": "stderr"
        },
        {
          "output_type": "execute_result",
          "data": {
            "text/plain": [
              "<matplotlib.legend.Legend at 0x7f8e0ad5cd10>"
            ]
          },
          "metadata": {
            "tags": []
          },
          "execution_count": 235
        },
        {
          "output_type": "display_data",
          "data": {
            "image/png": "[encoded data removed]",
            "text/plain": [
              "<Figure size 1152x720 with 1 Axes>"
            ]
          },
          "metadata": {
            "tags": []
          }
        }
      ]
    },
    {
      "cell_type": "code",
      "metadata": {
        "colab": {
          "base_uri": "https://localhost:8080/",
          "height": 204
        },
        "id": "8GOxsn5luNOP",
        "outputId": "cabac6fc-5a78-498e-8c52-d1511de53f1b"
      },
      "source": [
        "all_cnt = pd.concat([cnt0, cnt1, cnt2], ignore_index=True)\n",
        "all_cnt.head()"
      ],
      "execution_count": null,
      "outputs": [
        {
          "output_type": "execute_result",
          "data": {
            "text/html": [
              "<div>\n",
              "<style scoped>\n",
              "    .dataframe tbody tr th:only-of-type {\n",
              "        vertical-align: middle;\n",
              "    }\n",
              "\n",
              "    .dataframe tbody tr th {\n",
              "        vertical-align: top;\n",
              "    }\n",
              "\n",
              "    .dataframe thead th {\n",
              "        text-align: right;\n",
              "    }\n",
              "</style>\n",
              "<table border=\"1\" class=\"dataframe\">\n",
              "  <thead>\n",
              "    <tr style=\"text-align: right;\">\n",
              "      <th></th>\n",
              "      <th>sub_category</th>\n",
              "      <th>total_quantity</th>\n",
              "      <th>cat</th>\n",
              "    </tr>\n",
              "  </thead>\n",
              "  <tbody>\n",
              "    <tr>\n",
              "      <th>0</th>\n",
              "      <td>Accessories</td>\n",
              "      <td>23</td>\n",
              "      <td>0</td>\n",
              "    </tr>\n",
              "    <tr>\n",
              "      <th>1</th>\n",
              "      <td>Appliances</td>\n",
              "      <td>27</td>\n",
              "      <td>0</td>\n",
              "    </tr>\n",
              "    <tr>\n",
              "      <th>2</th>\n",
              "      <td>Art</td>\n",
              "      <td>52</td>\n",
              "      <td>0</td>\n",
              "    </tr>\n",
              "    <tr>\n",
              "      <th>3</th>\n",
              "      <td>Binders</td>\n",
              "      <td>93</td>\n",
              "      <td>0</td>\n",
              "    </tr>\n",
              "    <tr>\n",
              "      <th>4</th>\n",
              "      <td>Chairs</td>\n",
              "      <td>3</td>\n",
              "      <td>0</td>\n",
              "    </tr>\n",
              "  </tbody>\n",
              "</table>\n",
              "</div>"
            ],
            "text/plain": [
              "  sub_category  total_quantity  cat\n",
              "0  Accessories              23    0\n",
              "1   Appliances              27    0\n",
              "2          Art              52    0\n",
              "3      Binders              93    0\n",
              "4       Chairs               3    0"
            ]
          },
          "metadata": {
            "tags": []
          },
          "execution_count": 236
        }
      ]
    },
    {
      "cell_type": "code",
      "metadata": {
        "colab": {
          "base_uri": "https://localhost:8080/",
          "height": 1000
        },
        "id": "OKw9XX7KuooW",
        "outputId": "6254a9aa-2735-41e2-db74-12100da01247"
      },
      "source": [
        "sn.set(rc={'figure.figsize':(16,10)})\n",
        "sn.factorplot(x='sub_category', y='total_quantity', hue='cat', data=all_cnt, kind='bar', height=12)\n",
        "plt.xticks(rotation = 'vertical')"
      ],
      "execution_count": null,
      "outputs": [
        {
          "output_type": "stream",
          "text": [
            "/usr/local/lib/python3.7/dist-packages/seaborn/categorical.py:3714: UserWarning: The `factorplot` function has been renamed to `catplot`. The original name will be removed in a future release. Please update your code. Note that the default `kind` in `factorplot` (`'point'`) has changed `'strip'` in `catplot`.\n",
            "  warnings.warn(msg)\n"
          ],
          "name": "stderr"
        },
        {
          "output_type": "execute_result",
          "data": {
            "text/plain": [
              "(array([ 0,  1,  2,  3,  4,  5,  6,  7,  8,  9, 10, 11, 12, 13, 14, 15, 16]),\n",
              " <a list of 17 Text major ticklabel objects>)"
            ]
          },
          "metadata": {
            "tags": []
          },
          "execution_count": 237
        },
        {
          "output_type": "display_data",
          "data": {
            "image/png": "[encoded data removed]",
            "text/plain": [
              "<Figure size 910.6x864 with 1 Axes>"
            ]
          },
          "metadata": {
            "tags": []
          }
        }
      ]
    },
    {
      "cell_type": "code",
      "metadata": {
        "id": "zQULdjekvztt",
        "colab": {
          "base_uri": "https://localhost:8080/",
          "height": 628
        },
        "outputId": "f1eec977-6029-48b2-e874-fb7ac6ba3605"
      },
      "source": [
        "all_disc = pd.concat([disc0, disc1, disc2], ignore_index=True)\n",
        "\n",
        "sn.boxplot(x=\"cat\", y='discount', hue=\"cat\", data=all_disc)"
      ],
      "execution_count": null,
      "outputs": [
        {
          "output_type": "execute_result",
          "data": {
            "text/plain": [
              "<matplotlib.axes._subplots.AxesSubplot at 0x7f8e0aafea50>"
            ]
          },
          "metadata": {
            "tags": []
          },
          "execution_count": 238
        },
        {
          "output_type": "display_data",
          "data": {
            "image/png": "[encoded data removed]",
            "text/plain": [
              "<Figure size 1152x720 with 1 Axes>"
            ]
          },
          "metadata": {
            "tags": []
          }
        }
      ]
    },
    {
      "cell_type": "code",
      "metadata": {
        "colab": {
          "base_uri": "https://localhost:8080/",
          "height": 204
        },
        "id": "foRwLnLmJw-A",
        "outputId": "c73ea448-0702-45f0-f333-940663eaf910"
      },
      "source": [
        "SF_ts = SF_data.groupby(['order_id'],as_index=False).agg({'order_date': 'first',\n",
        "                                             'total_excl_vat': 'sum'})\n",
        "SF_ts.head()"
      ],
      "execution_count": null,
      "outputs": [
        {
          "output_type": "execute_result",
          "data": {
            "text/html": [
              "<div>\n",
              "<style scoped>\n",
              "    .dataframe tbody tr th:only-of-type {\n",
              "        vertical-align: middle;\n",
              "    }\n",
              "\n",
              "    .dataframe tbody tr th {\n",
              "        vertical-align: top;\n",
              "    }\n",
              "\n",
              "    .dataframe thead th {\n",
              "        text-align: right;\n",
              "    }\n",
              "</style>\n",
              "<table border=\"1\" class=\"dataframe\">\n",
              "  <thead>\n",
              "    <tr style=\"text-align: right;\">\n",
              "      <th></th>\n",
              "      <th>order_id</th>\n",
              "      <th>order_date</th>\n",
              "      <th>total_excl_vat</th>\n",
              "    </tr>\n",
              "  </thead>\n",
              "  <tbody>\n",
              "    <tr>\n",
              "      <th>0</th>\n",
              "      <td>CA-2014-100090</td>\n",
              "      <td>2014-07-08</td>\n",
              "      <td>699.192</td>\n",
              "    </tr>\n",
              "    <tr>\n",
              "      <th>1</th>\n",
              "      <td>CA-2014-103401</td>\n",
              "      <td>2014-11-21</td>\n",
              "      <td>12.960</td>\n",
              "    </tr>\n",
              "    <tr>\n",
              "      <th>2</th>\n",
              "      <td>CA-2014-104976</td>\n",
              "      <td>2014-12-09</td>\n",
              "      <td>34.680</td>\n",
              "    </tr>\n",
              "    <tr>\n",
              "      <th>3</th>\n",
              "      <td>CA-2014-105172</td>\n",
              "      <td>2014-04-04</td>\n",
              "      <td>18.900</td>\n",
              "    </tr>\n",
              "    <tr>\n",
              "      <th>4</th>\n",
              "      <td>CA-2014-105249</td>\n",
              "      <td>2014-11-28</td>\n",
              "      <td>460.092</td>\n",
              "    </tr>\n",
              "  </tbody>\n",
              "</table>\n",
              "</div>"
            ],
            "text/plain": [
              "         order_id order_date  total_excl_vat\n",
              "0  CA-2014-100090 2014-07-08         699.192\n",
              "1  CA-2014-103401 2014-11-21          12.960\n",
              "2  CA-2014-104976 2014-12-09          34.680\n",
              "3  CA-2014-105172 2014-04-04          18.900\n",
              "4  CA-2014-105249 2014-11-28         460.092"
            ]
          },
          "metadata": {
            "tags": []
          },
          "execution_count": 239
        }
      ]
    },
    {
      "cell_type": "code",
      "metadata": {
        "colab": {
          "base_uri": "https://localhost:8080/",
          "height": 611
        },
        "id": "5imd7V1rfvUf",
        "outputId": "2620f4cd-6f32-4bc3-b93c-b805b32374d2"
      },
      "source": [
        "plt.plot(SF_ts.total_excl_vat)"
      ],
      "execution_count": null,
      "outputs": [
        {
          "output_type": "execute_result",
          "data": {
            "text/plain": [
              "[<matplotlib.lines.Line2D at 0x7f8e0a9e9150>]"
            ]
          },
          "metadata": {
            "tags": []
          },
          "execution_count": 240
        },
        {
          "output_type": "display_data",
          "data": {
            "image/png": "[encoded data removed]",
            "text/plain": [
              "<Figure size 1152x720 with 1 Axes>"
            ]
          },
          "metadata": {
            "tags": []
          }
        }
      ]
    },
    {
      "cell_type": "code",
      "metadata": {
        "id": "KSQmTiRTgYWL"
      },
      "source": [
        ""
      ],
      "execution_count": null,
      "outputs": []
    },
    {
      "cell_type": "code",
      "metadata": {
        "id": "IvqjOJE0gfJY"
      },
      "source": [
        "SF_ts['order_date'] = pd.to_datetime(SF_ts['order_date'])\n",
        "SF_ts['month_year'] = SF_ts['order_date'].dt.to_period('M')\n",
        "SF_year_month = SF_ts.groupby(['month_year'],as_index=False).agg({\n",
        "                                             'total_excl_vat': 'sum'})\n",
        "SF_year_month.month_year = SF_year_month.month_year.dt.strftime('%Y-%m')\n",
        "SF_year_month.head()\n",
        "\n",
        "SF_year_month['date_ordinal'] = pd.to_datetime(SF_year_month['month_year']).apply(lambda date: date.toordinal())"
      ],
      "execution_count": null,
      "outputs": []
    },
    {
      "cell_type": "code",
      "metadata": {
        "colab": {
          "base_uri": "https://localhost:8080/",
          "height": 766
        },
        "id": "crcmlrPVqGPV",
        "outputId": "77b53e16-72c9-4abf-9713-7262d21afbd9"
      },
      "source": [
        "ax = sn.regplot(\n",
        "    data=SF_year_month,\n",
        "    x='date_ordinal',\n",
        "    y='total_excl_vat',\n",
        "    order=3\n",
        "    )\n",
        "# Tighten up the axes for prettiness\n",
        "ax.set_xlim(SF_year_month['date_ordinal'].min() - 20, SF_year_month['date_ordinal'].max() + 20)\n",
        "ax.set_ylim(-200, SF_year_month['total_excl_vat'].max() + 500)\n",
        "\n",
        "# change x labels\n",
        "ax.set_xlabel('date')\n",
        "ax.set_ylabel('monthly income excl vat')\n",
        "new_labels = [date.fromordinal(int(item)) for item in ax.get_xticks()]\n",
        "ax.set_xticklabels(new_labels)"
      ],
      "execution_count": null,
      "outputs": [
        {
          "output_type": "execute_result",
          "data": {
            "text/plain": [
              "[Text(0, 0, '2013-11-28'),\n",
              " Text(0, 0, '2014-06-16'),\n",
              " Text(0, 0, '2015-01-02'),\n",
              " Text(0, 0, '2015-07-21'),\n",
              " Text(0, 0, '2016-02-06'),\n",
              " Text(0, 0, '2016-08-24'),\n",
              " Text(0, 0, '2017-03-12'),\n",
              " Text(0, 0, '2017-09-28'),\n",
              " Text(0, 0, '2018-04-16')]"
            ]
          },
          "metadata": {
            "tags": []
          },
          "execution_count": 242
        },
        {
          "output_type": "display_data",
          "data": {
            "image/png": "[encoded data removed]",
            "text/plain": [
              "<Figure size 1152x720 with 1 Axes>"
            ]
          },
          "metadata": {
            "tags": []
          }
        }
      ]
    }
  ]
}